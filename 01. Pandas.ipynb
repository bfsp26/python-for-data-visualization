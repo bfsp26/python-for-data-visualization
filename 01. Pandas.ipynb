{
 "cells": [
  {
   "cell_type": "markdown",
   "source": [
    "# **Pandas**"
   ],
   "metadata": {
    "collapsed": false
   }
  },
  {
   "cell_type": "markdown",
   "source": [
    "## **Introduction to pandas**"
   ],
   "metadata": {
    "collapsed": false
   }
  },
  {
   "cell_type": "markdown",
   "source": [
    "In order to make a visualization, we need data and usually need it an organized tabular form suitable for plotting. The pandas library provides easy-to-use data structures and data analysis tools to make your data easier to plot. An important data structure of the pandas library is a fast and efficient object for data manipulation called a `DataFrame`."
   ],
   "metadata": {
    "collapsed": false
   }
  },
  {
   "cell_type": "markdown",
   "source": [
    "![img](https://ichi.pro/assets/images/max/724/1*8F3TgEXSmJ3G4cRkiY56-Q.png)"
   ],
   "metadata": {
    "collapsed": false
   }
  },
  {
   "cell_type": "markdown",
   "source": [
    "In order to create visualizations, you first need data to work with."
   ],
   "metadata": {
    "collapsed": false
   }
  },
  {
   "cell_type": "markdown",
   "source": [
    "## **Create sample data**"
   ],
   "metadata": {
    "collapsed": false
   }
  },
  {
   "cell_type": "markdown",
   "source": [
    "Car Loan of $34,690 dollars with a 7.02 interest rate over 60 months."
   ],
   "metadata": {
    "collapsed": false
   }
  },
  {
   "cell_type": "code",
   "execution_count": 1,
   "outputs": [],
   "source": [
    "import pandas as pd"
   ],
   "metadata": {
    "collapsed": false,
    "pycharm": {
     "name": "#%%\n"
    }
   }
  },
  {
   "cell_type": "code",
   "execution_count": 2,
   "metadata": {
    "collapsed": true
   },
   "outputs": [],
   "source": [
    "# Approach 1 List\n",
    "\n",
    "car_loans = [[1, 34689.96, 687.23, 202.93, 484.3, 34205.66, 60, 0.0702, 'Toyota Sienna'],\n",
    "             [2, 34205.66, 687.23, 200.1, 487.13, 33718.53, 60, 0.0702, 'Toyota Sienna'],\n",
    "             [3, 33718.53, 687.23, 197.25, 489.98, 33228.55, 60, 0.0702, 'Toyota Sienna'],\n",
    "             [4, 33228.55, 687.23, 194.38, 492.85, 32735.7, 60, 0.0702, 'Toyota Sienna'],\n",
    "             [5, 32735.7, 687.23, 191.5, 495.73, 32239.97, 60, 0.0702, 'Toyota Sienna']]\n",
    "\n",
    "col_names = ['Month',\n",
    "             'Starting Balance',\n",
    "             'Repayment',\n",
    "             'Interest Paid',\n",
    "             'Principal Paid',\n",
    "             'New Balance',\n",
    "             'term',\n",
    "             'interest_rate',\n",
    "             'car_type']"
   ]
  },
  {
   "cell_type": "code",
   "execution_count": 3,
   "outputs": [],
   "source": [
    "df = pd.DataFrame(data = car_loans, columns=col_names)"
   ],
   "metadata": {
    "collapsed": false,
    "pycharm": {
     "name": "#%%\n"
    }
   }
  },
  {
   "cell_type": "code",
   "execution_count": 4,
   "outputs": [
    {
     "data": {
      "text/plain": "   Month  Starting Balance  Repayment  Interest Paid  Principal Paid  \\\n0      1          34689.96     687.23         202.93          484.30   \n1      2          34205.66     687.23         200.10          487.13   \n2      3          33718.53     687.23         197.25          489.98   \n3      4          33228.55     687.23         194.38          492.85   \n4      5          32735.70     687.23         191.50          495.73   \n\n   New Balance  term  interest_rate       car_type  \n0     34205.66    60         0.0702  Toyota Sienna  \n1     33718.53    60         0.0702  Toyota Sienna  \n2     33228.55    60         0.0702  Toyota Sienna  \n3     32735.70    60         0.0702  Toyota Sienna  \n4     32239.97    60         0.0702  Toyota Sienna  ",
      "text/html": "<div>\n<style scoped>\n    .dataframe tbody tr th:only-of-type {\n        vertical-align: middle;\n    }\n\n    .dataframe tbody tr th {\n        vertical-align: top;\n    }\n\n    .dataframe thead th {\n        text-align: right;\n    }\n</style>\n<table border=\"1\" class=\"dataframe\">\n  <thead>\n    <tr style=\"text-align: right;\">\n      <th></th>\n      <th>Month</th>\n      <th>Starting Balance</th>\n      <th>Repayment</th>\n      <th>Interest Paid</th>\n      <th>Principal Paid</th>\n      <th>New Balance</th>\n      <th>term</th>\n      <th>interest_rate</th>\n      <th>car_type</th>\n    </tr>\n  </thead>\n  <tbody>\n    <tr>\n      <th>0</th>\n      <td>1</td>\n      <td>34689.96</td>\n      <td>687.23</td>\n      <td>202.93</td>\n      <td>484.30</td>\n      <td>34205.66</td>\n      <td>60</td>\n      <td>0.0702</td>\n      <td>Toyota Sienna</td>\n    </tr>\n    <tr>\n      <th>1</th>\n      <td>2</td>\n      <td>34205.66</td>\n      <td>687.23</td>\n      <td>200.10</td>\n      <td>487.13</td>\n      <td>33718.53</td>\n      <td>60</td>\n      <td>0.0702</td>\n      <td>Toyota Sienna</td>\n    </tr>\n    <tr>\n      <th>2</th>\n      <td>3</td>\n      <td>33718.53</td>\n      <td>687.23</td>\n      <td>197.25</td>\n      <td>489.98</td>\n      <td>33228.55</td>\n      <td>60</td>\n      <td>0.0702</td>\n      <td>Toyota Sienna</td>\n    </tr>\n    <tr>\n      <th>3</th>\n      <td>4</td>\n      <td>33228.55</td>\n      <td>687.23</td>\n      <td>194.38</td>\n      <td>492.85</td>\n      <td>32735.70</td>\n      <td>60</td>\n      <td>0.0702</td>\n      <td>Toyota Sienna</td>\n    </tr>\n    <tr>\n      <th>4</th>\n      <td>5</td>\n      <td>32735.70</td>\n      <td>687.23</td>\n      <td>191.50</td>\n      <td>495.73</td>\n      <td>32239.97</td>\n      <td>60</td>\n      <td>0.0702</td>\n      <td>Toyota Sienna</td>\n    </tr>\n  </tbody>\n</table>\n</div>"
     },
     "execution_count": 4,
     "metadata": {},
     "output_type": "execute_result"
    }
   ],
   "source": [
    "df"
   ],
   "metadata": {
    "collapsed": false,
    "pycharm": {
     "name": "#%%\n"
    }
   }
  },
  {
   "cell_type": "code",
   "execution_count": 5,
   "outputs": [],
   "source": [
    "import numpy as np"
   ],
   "metadata": {
    "collapsed": false,
    "pycharm": {
     "name": "#%%\n"
    }
   }
  },
  {
   "cell_type": "code",
   "execution_count": 6,
   "outputs": [],
   "source": [
    "# Approach 2 NumPy Array\n",
    "\n",
    "car_loans = np.array([[1, 34689.96, 687.23, 202.93, 484.3, 34205.66, 60, 0.0702, 'Toyota Sienna'],\n",
    "                      [2, 34205.66, 687.23, 200.1, 487.13, 33718.53, 60, 0.0702, 'Toyota Sienna'],\n",
    "                      [3, 33718.53, 687.23, 197.25, 489.98, 33228.55, 60, 0.0702, 'Toyota Sienna'],\n",
    "                      [4, 33228.55, 687.23, 194.38, 492.85, 32735.7, 60, 0.0702, 'Toyota Sienna'],\n",
    "                      [5, 32735.7, 687.23, 191.5, 495.73, 32239.97, 60, 0.0702, 'Toyota Sienna']])\n",
    "\n",
    "col_names = ['Month',\n",
    "             'Starting Balance',\n",
    "             'Repayment',\n",
    "             'Interest Paid',\n",
    "             'Principal Paid',\n",
    "             'New Balance',\n",
    "             'term',\n",
    "             'interest_rate',\n",
    "             'car_type']"
   ],
   "metadata": {
    "collapsed": false,
    "pycharm": {
     "name": "#%%\n"
    }
   }
  },
  {
   "cell_type": "code",
   "execution_count": 7,
   "outputs": [],
   "source": [
    "df = pd.DataFrame(data = car_loans, columns=col_names)"
   ],
   "metadata": {
    "collapsed": false,
    "pycharm": {
     "name": "#%%\n"
    }
   }
  },
  {
   "cell_type": "code",
   "execution_count": 8,
   "outputs": [
    {
     "data": {
      "text/plain": "  Month Starting Balance Repayment Interest Paid Principal Paid New Balance  \\\n0     1         34689.96    687.23        202.93          484.3    34205.66   \n1     2         34205.66    687.23         200.1         487.13    33718.53   \n2     3         33718.53    687.23        197.25         489.98    33228.55   \n3     4         33228.55    687.23        194.38         492.85     32735.7   \n4     5          32735.7    687.23         191.5         495.73    32239.97   \n\n  term interest_rate       car_type  \n0   60        0.0702  Toyota Sienna  \n1   60        0.0702  Toyota Sienna  \n2   60        0.0702  Toyota Sienna  \n3   60        0.0702  Toyota Sienna  \n4   60        0.0702  Toyota Sienna  ",
      "text/html": "<div>\n<style scoped>\n    .dataframe tbody tr th:only-of-type {\n        vertical-align: middle;\n    }\n\n    .dataframe tbody tr th {\n        vertical-align: top;\n    }\n\n    .dataframe thead th {\n        text-align: right;\n    }\n</style>\n<table border=\"1\" class=\"dataframe\">\n  <thead>\n    <tr style=\"text-align: right;\">\n      <th></th>\n      <th>Month</th>\n      <th>Starting Balance</th>\n      <th>Repayment</th>\n      <th>Interest Paid</th>\n      <th>Principal Paid</th>\n      <th>New Balance</th>\n      <th>term</th>\n      <th>interest_rate</th>\n      <th>car_type</th>\n    </tr>\n  </thead>\n  <tbody>\n    <tr>\n      <th>0</th>\n      <td>1</td>\n      <td>34689.96</td>\n      <td>687.23</td>\n      <td>202.93</td>\n      <td>484.3</td>\n      <td>34205.66</td>\n      <td>60</td>\n      <td>0.0702</td>\n      <td>Toyota Sienna</td>\n    </tr>\n    <tr>\n      <th>1</th>\n      <td>2</td>\n      <td>34205.66</td>\n      <td>687.23</td>\n      <td>200.1</td>\n      <td>487.13</td>\n      <td>33718.53</td>\n      <td>60</td>\n      <td>0.0702</td>\n      <td>Toyota Sienna</td>\n    </tr>\n    <tr>\n      <th>2</th>\n      <td>3</td>\n      <td>33718.53</td>\n      <td>687.23</td>\n      <td>197.25</td>\n      <td>489.98</td>\n      <td>33228.55</td>\n      <td>60</td>\n      <td>0.0702</td>\n      <td>Toyota Sienna</td>\n    </tr>\n    <tr>\n      <th>3</th>\n      <td>4</td>\n      <td>33228.55</td>\n      <td>687.23</td>\n      <td>194.38</td>\n      <td>492.85</td>\n      <td>32735.7</td>\n      <td>60</td>\n      <td>0.0702</td>\n      <td>Toyota Sienna</td>\n    </tr>\n    <tr>\n      <th>4</th>\n      <td>5</td>\n      <td>32735.7</td>\n      <td>687.23</td>\n      <td>191.5</td>\n      <td>495.73</td>\n      <td>32239.97</td>\n      <td>60</td>\n      <td>0.0702</td>\n      <td>Toyota Sienna</td>\n    </tr>\n  </tbody>\n</table>\n</div>"
     },
     "execution_count": 8,
     "metadata": {},
     "output_type": "execute_result"
    }
   ],
   "source": [
    "df"
   ],
   "metadata": {
    "collapsed": false,
    "pycharm": {
     "name": "#%%\n"
    }
   }
  },
  {
   "cell_type": "code",
   "execution_count": 9,
   "outputs": [],
   "source": [
    "# Approach 3 Python Dictionary\n",
    "\n",
    "car_loans = {'Month': {0: 1, 1: 2, 2: 3, 3: 4, 4: 5},\n",
    "             'Starting Balance': {0: 34689.96, 1: 34205.66, 2: 33718.53, 3: 33228.55, 4: 32735.7},\n",
    "             'Repayment': {0: 687.23, 1: 687.23, 2: 687.23, 3: 687.23, 4:687.23},\n",
    "             'Interest Paid': {0: 202.93, 1: 200.1, 2: 197.25, 3: 194.38, 4:191.5},\n",
    "             'Principal Paid': {0: 484.3, 1: 487.13, 2: 489.98, 3: 492.85, 4:495.73},\n",
    "             'New Balance': {0: 34205.66, 1: 33718.53, 2: 33228.55, 3: 32735.7, 4:32239.97},\n",
    "             'term': {0: 60, 1: 60, 2: 60, 3: 60, 4:60},\n",
    "             'interest_rate': {0: 0.0702, 1: 0.0702, 2: 0.0702, 3: 0.0702, 4:0.0702},\n",
    "             'car_type': {0: 'Toyota Sienna', 1: 'Toyota Sienna', 2: 'Toyota Sienna', 3: 'Toyota Sienna', 4:'Toyota Sienna'}}"
   ],
   "metadata": {
    "collapsed": false,
    "pycharm": {
     "name": "#%%\n"
    }
   }
  },
  {
   "cell_type": "code",
   "execution_count": 10,
   "outputs": [],
   "source": [
    "df = pd.DataFrame(data = car_loans, columns=col_names)"
   ],
   "metadata": {
    "collapsed": false,
    "pycharm": {
     "name": "#%%\n"
    }
   }
  },
  {
   "cell_type": "code",
   "execution_count": 11,
   "outputs": [
    {
     "data": {
      "text/plain": "   Month  Starting Balance  Repayment  Interest Paid  Principal Paid  \\\n0      1          34689.96     687.23         202.93          484.30   \n1      2          34205.66     687.23         200.10          487.13   \n2      3          33718.53     687.23         197.25          489.98   \n3      4          33228.55     687.23         194.38          492.85   \n4      5          32735.70     687.23         191.50          495.73   \n\n   New Balance  term  interest_rate       car_type  \n0     34205.66    60         0.0702  Toyota Sienna  \n1     33718.53    60         0.0702  Toyota Sienna  \n2     33228.55    60         0.0702  Toyota Sienna  \n3     32735.70    60         0.0702  Toyota Sienna  \n4     32239.97    60         0.0702  Toyota Sienna  ",
      "text/html": "<div>\n<style scoped>\n    .dataframe tbody tr th:only-of-type {\n        vertical-align: middle;\n    }\n\n    .dataframe tbody tr th {\n        vertical-align: top;\n    }\n\n    .dataframe thead th {\n        text-align: right;\n    }\n</style>\n<table border=\"1\" class=\"dataframe\">\n  <thead>\n    <tr style=\"text-align: right;\">\n      <th></th>\n      <th>Month</th>\n      <th>Starting Balance</th>\n      <th>Repayment</th>\n      <th>Interest Paid</th>\n      <th>Principal Paid</th>\n      <th>New Balance</th>\n      <th>term</th>\n      <th>interest_rate</th>\n      <th>car_type</th>\n    </tr>\n  </thead>\n  <tbody>\n    <tr>\n      <th>0</th>\n      <td>1</td>\n      <td>34689.96</td>\n      <td>687.23</td>\n      <td>202.93</td>\n      <td>484.30</td>\n      <td>34205.66</td>\n      <td>60</td>\n      <td>0.0702</td>\n      <td>Toyota Sienna</td>\n    </tr>\n    <tr>\n      <th>1</th>\n      <td>2</td>\n      <td>34205.66</td>\n      <td>687.23</td>\n      <td>200.10</td>\n      <td>487.13</td>\n      <td>33718.53</td>\n      <td>60</td>\n      <td>0.0702</td>\n      <td>Toyota Sienna</td>\n    </tr>\n    <tr>\n      <th>2</th>\n      <td>3</td>\n      <td>33718.53</td>\n      <td>687.23</td>\n      <td>197.25</td>\n      <td>489.98</td>\n      <td>33228.55</td>\n      <td>60</td>\n      <td>0.0702</td>\n      <td>Toyota Sienna</td>\n    </tr>\n    <tr>\n      <th>3</th>\n      <td>4</td>\n      <td>33228.55</td>\n      <td>687.23</td>\n      <td>194.38</td>\n      <td>492.85</td>\n      <td>32735.70</td>\n      <td>60</td>\n      <td>0.0702</td>\n      <td>Toyota Sienna</td>\n    </tr>\n    <tr>\n      <th>4</th>\n      <td>5</td>\n      <td>32735.70</td>\n      <td>687.23</td>\n      <td>191.50</td>\n      <td>495.73</td>\n      <td>32239.97</td>\n      <td>60</td>\n      <td>0.0702</td>\n      <td>Toyota Sienna</td>\n    </tr>\n  </tbody>\n</table>\n</div>"
     },
     "execution_count": 11,
     "metadata": {},
     "output_type": "execute_result"
    }
   ],
   "source": [
    "df"
   ],
   "metadata": {
    "collapsed": false,
    "pycharm": {
     "name": "#%%\n"
    }
   }
  },
  {
   "cell_type": "markdown",
   "source": [
    "If you have a larger dataset, it doesn't make sense to manually put data into a dataframe."
   ],
   "metadata": {
    "collapsed": false
   }
  },
  {
   "cell_type": "markdown",
   "source": [
    "## **Load Sample Data**"
   ],
   "metadata": {
    "collapsed": false
   }
  },
  {
   "cell_type": "markdown",
   "source": [
    "### Load CSV File"
   ],
   "metadata": {
    "collapsed": false
   }
  },
  {
   "cell_type": "code",
   "execution_count": 12,
   "outputs": [],
   "source": [
    "# Load car load data from a csv file\n",
    "filename = 'data/car_financing.csv'\n",
    "df = pd.read_csv(filename)"
   ],
   "metadata": {
    "collapsed": false,
    "pycharm": {
     "name": "#%%\n"
    }
   }
  },
  {
   "cell_type": "code",
   "execution_count": 13,
   "outputs": [
    {
     "data": {
      "text/plain": "   Month  Starting Balance  Repayment  Interest Paid  Principal Paid  \\\n0      1          34689.96     687.23         202.93          484.30   \n1      2          34205.66     687.23         200.10          487.13   \n2      3          33718.53     687.23         197.25          489.98   \n3      4          33228.55     687.23         194.38          492.85   \n4      5          32735.70     687.23         191.50          495.73   \n\n   New Balance  term  interest_rate       car_type  \n0     34205.66    60         0.0702  Toyota Sienna  \n1     33718.53    60         0.0702  Toyota Sienna  \n2     33228.55    60         0.0702  Toyota Sienna  \n3     32735.70    60         0.0702  Toyota Sienna  \n4     32239.97    60         0.0702  Toyota Sienna  ",
      "text/html": "<div>\n<style scoped>\n    .dataframe tbody tr th:only-of-type {\n        vertical-align: middle;\n    }\n\n    .dataframe tbody tr th {\n        vertical-align: top;\n    }\n\n    .dataframe thead th {\n        text-align: right;\n    }\n</style>\n<table border=\"1\" class=\"dataframe\">\n  <thead>\n    <tr style=\"text-align: right;\">\n      <th></th>\n      <th>Month</th>\n      <th>Starting Balance</th>\n      <th>Repayment</th>\n      <th>Interest Paid</th>\n      <th>Principal Paid</th>\n      <th>New Balance</th>\n      <th>term</th>\n      <th>interest_rate</th>\n      <th>car_type</th>\n    </tr>\n  </thead>\n  <tbody>\n    <tr>\n      <th>0</th>\n      <td>1</td>\n      <td>34689.96</td>\n      <td>687.23</td>\n      <td>202.93</td>\n      <td>484.30</td>\n      <td>34205.66</td>\n      <td>60</td>\n      <td>0.0702</td>\n      <td>Toyota Sienna</td>\n    </tr>\n    <tr>\n      <th>1</th>\n      <td>2</td>\n      <td>34205.66</td>\n      <td>687.23</td>\n      <td>200.10</td>\n      <td>487.13</td>\n      <td>33718.53</td>\n      <td>60</td>\n      <td>0.0702</td>\n      <td>Toyota Sienna</td>\n    </tr>\n    <tr>\n      <th>2</th>\n      <td>3</td>\n      <td>33718.53</td>\n      <td>687.23</td>\n      <td>197.25</td>\n      <td>489.98</td>\n      <td>33228.55</td>\n      <td>60</td>\n      <td>0.0702</td>\n      <td>Toyota Sienna</td>\n    </tr>\n    <tr>\n      <th>3</th>\n      <td>4</td>\n      <td>33228.55</td>\n      <td>687.23</td>\n      <td>194.38</td>\n      <td>492.85</td>\n      <td>32735.70</td>\n      <td>60</td>\n      <td>0.0702</td>\n      <td>Toyota Sienna</td>\n    </tr>\n    <tr>\n      <th>4</th>\n      <td>5</td>\n      <td>32735.70</td>\n      <td>687.23</td>\n      <td>191.50</td>\n      <td>495.73</td>\n      <td>32239.97</td>\n      <td>60</td>\n      <td>0.0702</td>\n      <td>Toyota Sienna</td>\n    </tr>\n  </tbody>\n</table>\n</div>"
     },
     "execution_count": 13,
     "metadata": {},
     "output_type": "execute_result"
    }
   ],
   "source": [
    "df.head()"
   ],
   "metadata": {
    "collapsed": false,
    "pycharm": {
     "name": "#%%\n"
    }
   }
  },
  {
   "cell_type": "markdown",
   "source": [
    "### Load Excel File"
   ],
   "metadata": {
    "collapsed": false
   }
  },
  {
   "cell_type": "code",
   "execution_count": 14,
   "outputs": [],
   "source": [
    "filename = 'data/car_financing.xlsx'\n",
    "df = pd.read_excel(filename)"
   ],
   "metadata": {
    "collapsed": false,
    "pycharm": {
     "name": "#%%\n"
    }
   }
  },
  {
   "cell_type": "code",
   "execution_count": 15,
   "outputs": [
    {
     "data": {
      "text/plain": "   Month  Starting Balance  Repayment  Interest Paid  Principal Paid  \\\n0      1          34689.96     687.23         202.93          484.30   \n1      2          34205.66     687.23         200.10          487.13   \n2      3          33718.53     687.23         197.25          489.98   \n3      4          33228.55     687.23         194.38          492.85   \n4      5          32735.70     687.23         191.50          495.73   \n\n   New Balance  term  interest_rate       car_type  \n0     34205.66    60         0.0702  Toyota Sienna  \n1     33718.53    60         0.0702  Toyota Sienna  \n2     33228.55    60         0.0702  Toyota Sienna  \n3     32735.70    60         0.0702  Toyota Sienna  \n4     32239.97    60         0.0702  Toyota Sienna  ",
      "text/html": "<div>\n<style scoped>\n    .dataframe tbody tr th:only-of-type {\n        vertical-align: middle;\n    }\n\n    .dataframe tbody tr th {\n        vertical-align: top;\n    }\n\n    .dataframe thead th {\n        text-align: right;\n    }\n</style>\n<table border=\"1\" class=\"dataframe\">\n  <thead>\n    <tr style=\"text-align: right;\">\n      <th></th>\n      <th>Month</th>\n      <th>Starting Balance</th>\n      <th>Repayment</th>\n      <th>Interest Paid</th>\n      <th>Principal Paid</th>\n      <th>New Balance</th>\n      <th>term</th>\n      <th>interest_rate</th>\n      <th>car_type</th>\n    </tr>\n  </thead>\n  <tbody>\n    <tr>\n      <th>0</th>\n      <td>1</td>\n      <td>34689.96</td>\n      <td>687.23</td>\n      <td>202.93</td>\n      <td>484.30</td>\n      <td>34205.66</td>\n      <td>60</td>\n      <td>0.0702</td>\n      <td>Toyota Sienna</td>\n    </tr>\n    <tr>\n      <th>1</th>\n      <td>2</td>\n      <td>34205.66</td>\n      <td>687.23</td>\n      <td>200.10</td>\n      <td>487.13</td>\n      <td>33718.53</td>\n      <td>60</td>\n      <td>0.0702</td>\n      <td>Toyota Sienna</td>\n    </tr>\n    <tr>\n      <th>2</th>\n      <td>3</td>\n      <td>33718.53</td>\n      <td>687.23</td>\n      <td>197.25</td>\n      <td>489.98</td>\n      <td>33228.55</td>\n      <td>60</td>\n      <td>0.0702</td>\n      <td>Toyota Sienna</td>\n    </tr>\n    <tr>\n      <th>3</th>\n      <td>4</td>\n      <td>33228.55</td>\n      <td>687.23</td>\n      <td>194.38</td>\n      <td>492.85</td>\n      <td>32735.70</td>\n      <td>60</td>\n      <td>0.0702</td>\n      <td>Toyota Sienna</td>\n    </tr>\n    <tr>\n      <th>4</th>\n      <td>5</td>\n      <td>32735.70</td>\n      <td>687.23</td>\n      <td>191.50</td>\n      <td>495.73</td>\n      <td>32239.97</td>\n      <td>60</td>\n      <td>0.0702</td>\n      <td>Toyota Sienna</td>\n    </tr>\n  </tbody>\n</table>\n</div>"
     },
     "execution_count": 15,
     "metadata": {},
     "output_type": "execute_result"
    }
   ],
   "source": [
    "df.head()"
   ],
   "metadata": {
    "collapsed": false,
    "pycharm": {
     "name": "#%%\n"
    }
   }
  },
  {
   "cell_type": "markdown",
   "source": [
    "## **Basic operations**"
   ],
   "metadata": {
    "collapsed": false
   }
  },
  {
   "cell_type": "markdown",
   "source": [
    "After reading the contains into your DataFrame, it's important to examine your data.\n",
    "\n",
    "**Examining Data**\n",
    "\n",
    "- Assure data is correctly loaded\n",
    "- See what data you have\n",
    "- Check the validity of your data"
   ],
   "metadata": {
    "collapsed": false
   }
  },
  {
   "cell_type": "markdown",
   "source": [
    "### Viewing the first and last 5 rows"
   ],
   "metadata": {
    "collapsed": false
   }
  },
  {
   "cell_type": "code",
   "execution_count": 16,
   "outputs": [
    {
     "data": {
      "text/plain": "   Month  Starting Balance  Repayment  Interest Paid  Principal Paid  \\\n0      1          34689.96     687.23         202.93          484.30   \n1      2          34205.66     687.23         200.10          487.13   \n2      3          33718.53     687.23         197.25          489.98   \n3      4          33228.55     687.23         194.38          492.85   \n4      5          32735.70     687.23         191.50          495.73   \n\n   New Balance  term  interest_rate       car_type  \n0     34205.66    60         0.0702  Toyota Sienna  \n1     33718.53    60         0.0702  Toyota Sienna  \n2     33228.55    60         0.0702  Toyota Sienna  \n3     32735.70    60         0.0702  Toyota Sienna  \n4     32239.97    60         0.0702  Toyota Sienna  ",
      "text/html": "<div>\n<style scoped>\n    .dataframe tbody tr th:only-of-type {\n        vertical-align: middle;\n    }\n\n    .dataframe tbody tr th {\n        vertical-align: top;\n    }\n\n    .dataframe thead th {\n        text-align: right;\n    }\n</style>\n<table border=\"1\" class=\"dataframe\">\n  <thead>\n    <tr style=\"text-align: right;\">\n      <th></th>\n      <th>Month</th>\n      <th>Starting Balance</th>\n      <th>Repayment</th>\n      <th>Interest Paid</th>\n      <th>Principal Paid</th>\n      <th>New Balance</th>\n      <th>term</th>\n      <th>interest_rate</th>\n      <th>car_type</th>\n    </tr>\n  </thead>\n  <tbody>\n    <tr>\n      <th>0</th>\n      <td>1</td>\n      <td>34689.96</td>\n      <td>687.23</td>\n      <td>202.93</td>\n      <td>484.30</td>\n      <td>34205.66</td>\n      <td>60</td>\n      <td>0.0702</td>\n      <td>Toyota Sienna</td>\n    </tr>\n    <tr>\n      <th>1</th>\n      <td>2</td>\n      <td>34205.66</td>\n      <td>687.23</td>\n      <td>200.10</td>\n      <td>487.13</td>\n      <td>33718.53</td>\n      <td>60</td>\n      <td>0.0702</td>\n      <td>Toyota Sienna</td>\n    </tr>\n    <tr>\n      <th>2</th>\n      <td>3</td>\n      <td>33718.53</td>\n      <td>687.23</td>\n      <td>197.25</td>\n      <td>489.98</td>\n      <td>33228.55</td>\n      <td>60</td>\n      <td>0.0702</td>\n      <td>Toyota Sienna</td>\n    </tr>\n    <tr>\n      <th>3</th>\n      <td>4</td>\n      <td>33228.55</td>\n      <td>687.23</td>\n      <td>194.38</td>\n      <td>492.85</td>\n      <td>32735.70</td>\n      <td>60</td>\n      <td>0.0702</td>\n      <td>Toyota Sienna</td>\n    </tr>\n    <tr>\n      <th>4</th>\n      <td>5</td>\n      <td>32735.70</td>\n      <td>687.23</td>\n      <td>191.50</td>\n      <td>495.73</td>\n      <td>32239.97</td>\n      <td>60</td>\n      <td>0.0702</td>\n      <td>Toyota Sienna</td>\n    </tr>\n  </tbody>\n</table>\n</div>"
     },
     "execution_count": 16,
     "metadata": {},
     "output_type": "execute_result"
    }
   ],
   "source": [
    "# Select top N number of records (default = 5)\n",
    "df.head()"
   ],
   "metadata": {
    "collapsed": false,
    "pycharm": {
     "name": "#%%\n"
    }
   }
  },
  {
   "cell_type": "code",
   "execution_count": 17,
   "outputs": [
    {
     "data": {
      "text/plain": "     Month  Starting Balance  Repayment  Interest Paid  Principal Paid  \\\n403     56           3951.11     796.01           9.54          786.47   \n404     57           3164.64     796.01           7.64          788.37   \n405     58           2376.27     796.01           5.74          790.27   \n406     59           1586.00     796.01           3.83          792.18   \n407     60            793.82     796.01           1.91          794.10   \n\n     New Balance  term  interest_rate   car_type  \n403      3164.64    60          0.029  VW Golf R  \n404      2376.27    60          0.029  VW Golf R  \n405      1586.00    60          0.029  VW Golf R  \n406       793.82    60          0.029  VW Golf R  \n407        -0.28    60          0.029  VW Golf R  ",
      "text/html": "<div>\n<style scoped>\n    .dataframe tbody tr th:only-of-type {\n        vertical-align: middle;\n    }\n\n    .dataframe tbody tr th {\n        vertical-align: top;\n    }\n\n    .dataframe thead th {\n        text-align: right;\n    }\n</style>\n<table border=\"1\" class=\"dataframe\">\n  <thead>\n    <tr style=\"text-align: right;\">\n      <th></th>\n      <th>Month</th>\n      <th>Starting Balance</th>\n      <th>Repayment</th>\n      <th>Interest Paid</th>\n      <th>Principal Paid</th>\n      <th>New Balance</th>\n      <th>term</th>\n      <th>interest_rate</th>\n      <th>car_type</th>\n    </tr>\n  </thead>\n  <tbody>\n    <tr>\n      <th>403</th>\n      <td>56</td>\n      <td>3951.11</td>\n      <td>796.01</td>\n      <td>9.54</td>\n      <td>786.47</td>\n      <td>3164.64</td>\n      <td>60</td>\n      <td>0.029</td>\n      <td>VW Golf R</td>\n    </tr>\n    <tr>\n      <th>404</th>\n      <td>57</td>\n      <td>3164.64</td>\n      <td>796.01</td>\n      <td>7.64</td>\n      <td>788.37</td>\n      <td>2376.27</td>\n      <td>60</td>\n      <td>0.029</td>\n      <td>VW Golf R</td>\n    </tr>\n    <tr>\n      <th>405</th>\n      <td>58</td>\n      <td>2376.27</td>\n      <td>796.01</td>\n      <td>5.74</td>\n      <td>790.27</td>\n      <td>1586.00</td>\n      <td>60</td>\n      <td>0.029</td>\n      <td>VW Golf R</td>\n    </tr>\n    <tr>\n      <th>406</th>\n      <td>59</td>\n      <td>1586.00</td>\n      <td>796.01</td>\n      <td>3.83</td>\n      <td>792.18</td>\n      <td>793.82</td>\n      <td>60</td>\n      <td>0.029</td>\n      <td>VW Golf R</td>\n    </tr>\n    <tr>\n      <th>407</th>\n      <td>60</td>\n      <td>793.82</td>\n      <td>796.01</td>\n      <td>1.91</td>\n      <td>794.10</td>\n      <td>-0.28</td>\n      <td>60</td>\n      <td>0.029</td>\n      <td>VW Golf R</td>\n    </tr>\n  </tbody>\n</table>\n</div>"
     },
     "execution_count": 17,
     "metadata": {},
     "output_type": "execute_result"
    }
   ],
   "source": [
    "# Select bottom N number of records (default = 5)\n",
    "df.tail()"
   ],
   "metadata": {
    "collapsed": false,
    "pycharm": {
     "name": "#%%\n"
    }
   }
  },
  {
   "cell_type": "markdown",
   "source": [
    "### Check the column data type"
   ],
   "metadata": {
    "collapsed": false
   }
  },
  {
   "cell_type": "code",
   "execution_count": 18,
   "outputs": [
    {
     "data": {
      "text/plain": "Month                 int64\nStarting Balance    float64\nRepayment           float64\nInterest Paid       float64\nPrincipal Paid      float64\nNew Balance         float64\nterm                  int64\ninterest_rate       float64\ncar_type             object\ndtype: object"
     },
     "execution_count": 18,
     "metadata": {},
     "output_type": "execute_result"
    }
   ],
   "source": [
    "# Check the column data types using the dtypes attribute\n",
    "df.dtypes"
   ],
   "metadata": {
    "collapsed": false,
    "pycharm": {
     "name": "#%%\n"
    }
   }
  },
  {
   "cell_type": "code",
   "execution_count": 19,
   "outputs": [
    {
     "data": {
      "text/plain": "(408, 9)"
     },
     "execution_count": 19,
     "metadata": {},
     "output_type": "execute_result"
    }
   ],
   "source": [
    "# Use the shape attribute to get the number of rows and columns in your dataframe\n",
    "df.shape"
   ],
   "metadata": {
    "collapsed": false,
    "pycharm": {
     "name": "#%%\n"
    }
   }
  },
  {
   "cell_type": "code",
   "execution_count": 20,
   "outputs": [
    {
     "name": "stdout",
     "output_type": "stream",
     "text": [
      "<class 'pandas.core.frame.DataFrame'>\n",
      "RangeIndex: 408 entries, 0 to 407\n",
      "Data columns (total 9 columns):\n",
      " #   Column            Non-Null Count  Dtype  \n",
      "---  ------            --------------  -----  \n",
      " 0   Month             408 non-null    int64  \n",
      " 1   Starting Balance  408 non-null    float64\n",
      " 2   Repayment         408 non-null    float64\n",
      " 3   Interest Paid     407 non-null    float64\n",
      " 4   Principal Paid    408 non-null    float64\n",
      " 5   New Balance       408 non-null    float64\n",
      " 6   term              408 non-null    int64  \n",
      " 7   interest_rate     408 non-null    float64\n",
      " 8   car_type          408 non-null    object \n",
      "dtypes: float64(6), int64(2), object(1)\n",
      "memory usage: 28.8+ KB\n"
     ]
    }
   ],
   "source": [
    "# The info method gives the column datatypes + number of non-null values\n",
    "df.info()"
   ],
   "metadata": {
    "collapsed": false,
    "pycharm": {
     "name": "#%%\n"
    }
   }
  },
  {
   "cell_type": "markdown",
   "source": [
    "## **Slicing**"
   ],
   "metadata": {
    "collapsed": false
   }
  },
  {
   "cell_type": "markdown",
   "source": [
    "When working with large datasets oftentimes you're only interested in a smaller subset of that data.\n",
    "\n",
    "- How to select columns in pandas\n",
    "- How to use slicing operations in pandas"
   ],
   "metadata": {
    "collapsed": false
   }
  },
  {
   "cell_type": "code",
   "execution_count": 21,
   "outputs": [
    {
     "data": {
      "text/plain": "   Month  Starting Balance  Repayment  Interest Paid  Principal Paid  \\\n0      1          34689.96     687.23         202.93          484.30   \n1      2          34205.66     687.23         200.10          487.13   \n2      3          33718.53     687.23         197.25          489.98   \n3      4          33228.55     687.23         194.38          492.85   \n4      5          32735.70     687.23         191.50          495.73   \n\n   New Balance  term  interest_rate       car_type  \n0     34205.66    60         0.0702  Toyota Sienna  \n1     33718.53    60         0.0702  Toyota Sienna  \n2     33228.55    60         0.0702  Toyota Sienna  \n3     32735.70    60         0.0702  Toyota Sienna  \n4     32239.97    60         0.0702  Toyota Sienna  ",
      "text/html": "<div>\n<style scoped>\n    .dataframe tbody tr th:only-of-type {\n        vertical-align: middle;\n    }\n\n    .dataframe tbody tr th {\n        vertical-align: top;\n    }\n\n    .dataframe thead th {\n        text-align: right;\n    }\n</style>\n<table border=\"1\" class=\"dataframe\">\n  <thead>\n    <tr style=\"text-align: right;\">\n      <th></th>\n      <th>Month</th>\n      <th>Starting Balance</th>\n      <th>Repayment</th>\n      <th>Interest Paid</th>\n      <th>Principal Paid</th>\n      <th>New Balance</th>\n      <th>term</th>\n      <th>interest_rate</th>\n      <th>car_type</th>\n    </tr>\n  </thead>\n  <tbody>\n    <tr>\n      <th>0</th>\n      <td>1</td>\n      <td>34689.96</td>\n      <td>687.23</td>\n      <td>202.93</td>\n      <td>484.30</td>\n      <td>34205.66</td>\n      <td>60</td>\n      <td>0.0702</td>\n      <td>Toyota Sienna</td>\n    </tr>\n    <tr>\n      <th>1</th>\n      <td>2</td>\n      <td>34205.66</td>\n      <td>687.23</td>\n      <td>200.10</td>\n      <td>487.13</td>\n      <td>33718.53</td>\n      <td>60</td>\n      <td>0.0702</td>\n      <td>Toyota Sienna</td>\n    </tr>\n    <tr>\n      <th>2</th>\n      <td>3</td>\n      <td>33718.53</td>\n      <td>687.23</td>\n      <td>197.25</td>\n      <td>489.98</td>\n      <td>33228.55</td>\n      <td>60</td>\n      <td>0.0702</td>\n      <td>Toyota Sienna</td>\n    </tr>\n    <tr>\n      <th>3</th>\n      <td>4</td>\n      <td>33228.55</td>\n      <td>687.23</td>\n      <td>194.38</td>\n      <td>492.85</td>\n      <td>32735.70</td>\n      <td>60</td>\n      <td>0.0702</td>\n      <td>Toyota Sienna</td>\n    </tr>\n    <tr>\n      <th>4</th>\n      <td>5</td>\n      <td>32735.70</td>\n      <td>687.23</td>\n      <td>191.50</td>\n      <td>495.73</td>\n      <td>32239.97</td>\n      <td>60</td>\n      <td>0.0702</td>\n      <td>Toyota Sienna</td>\n    </tr>\n  </tbody>\n</table>\n</div>"
     },
     "execution_count": 21,
     "metadata": {},
     "output_type": "execute_result"
    }
   ],
   "source": [
    "df.head()"
   ],
   "metadata": {
    "collapsed": false,
    "pycharm": {
     "name": "#%%\n"
    }
   }
  },
  {
   "cell_type": "markdown",
   "source": [
    "### Select columns using brackets\n",
    "\n",
    "With square brackets, you can select one or more columns."
   ],
   "metadata": {
    "collapsed": false
   }
  },
  {
   "cell_type": "code",
   "execution_count": 22,
   "outputs": [
    {
     "data": {
      "text/plain": "        car_type\n0  Toyota Sienna\n1  Toyota Sienna\n2  Toyota Sienna\n3  Toyota Sienna\n4  Toyota Sienna",
      "text/html": "<div>\n<style scoped>\n    .dataframe tbody tr th:only-of-type {\n        vertical-align: middle;\n    }\n\n    .dataframe tbody tr th {\n        vertical-align: top;\n    }\n\n    .dataframe thead th {\n        text-align: right;\n    }\n</style>\n<table border=\"1\" class=\"dataframe\">\n  <thead>\n    <tr style=\"text-align: right;\">\n      <th></th>\n      <th>car_type</th>\n    </tr>\n  </thead>\n  <tbody>\n    <tr>\n      <th>0</th>\n      <td>Toyota Sienna</td>\n    </tr>\n    <tr>\n      <th>1</th>\n      <td>Toyota Sienna</td>\n    </tr>\n    <tr>\n      <th>2</th>\n      <td>Toyota Sienna</td>\n    </tr>\n    <tr>\n      <th>3</th>\n      <td>Toyota Sienna</td>\n    </tr>\n    <tr>\n      <th>4</th>\n      <td>Toyota Sienna</td>\n    </tr>\n  </tbody>\n</table>\n</div>"
     },
     "execution_count": 22,
     "metadata": {},
     "output_type": "execute_result"
    }
   ],
   "source": [
    "# Select one column using double brackets\n",
    "df[['car_type']].head()"
   ],
   "metadata": {
    "collapsed": false,
    "pycharm": {
     "name": "#%%\n"
    }
   }
  },
  {
   "cell_type": "code",
   "execution_count": 23,
   "outputs": [
    {
     "data": {
      "text/plain": "        car_type  Principal Paid\n0  Toyota Sienna          484.30\n1  Toyota Sienna          487.13\n2  Toyota Sienna          489.98\n3  Toyota Sienna          492.85\n4  Toyota Sienna          495.73",
      "text/html": "<div>\n<style scoped>\n    .dataframe tbody tr th:only-of-type {\n        vertical-align: middle;\n    }\n\n    .dataframe tbody tr th {\n        vertical-align: top;\n    }\n\n    .dataframe thead th {\n        text-align: right;\n    }\n</style>\n<table border=\"1\" class=\"dataframe\">\n  <thead>\n    <tr style=\"text-align: right;\">\n      <th></th>\n      <th>car_type</th>\n      <th>Principal Paid</th>\n    </tr>\n  </thead>\n  <tbody>\n    <tr>\n      <th>0</th>\n      <td>Toyota Sienna</td>\n      <td>484.30</td>\n    </tr>\n    <tr>\n      <th>1</th>\n      <td>Toyota Sienna</td>\n      <td>487.13</td>\n    </tr>\n    <tr>\n      <th>2</th>\n      <td>Toyota Sienna</td>\n      <td>489.98</td>\n    </tr>\n    <tr>\n      <th>3</th>\n      <td>Toyota Sienna</td>\n      <td>492.85</td>\n    </tr>\n    <tr>\n      <th>4</th>\n      <td>Toyota Sienna</td>\n      <td>495.73</td>\n    </tr>\n  </tbody>\n</table>\n</div>"
     },
     "execution_count": 23,
     "metadata": {},
     "output_type": "execute_result"
    }
   ],
   "source": [
    "# Select multiple columns using double brackets\n",
    "df[['car_type', 'Principal Paid']].head()"
   ],
   "metadata": {
    "collapsed": false,
    "pycharm": {
     "name": "#%%\n"
    }
   }
  },
  {
   "cell_type": "code",
   "execution_count": 24,
   "outputs": [
    {
     "data": {
      "text/plain": "pandas.core.frame.DataFrame"
     },
     "execution_count": 24,
     "metadata": {},
     "output_type": "execute_result"
    }
   ],
   "source": [
    "# This is a Pandas DataFrame\n",
    "type(df[['car_type']].head())"
   ],
   "metadata": {
    "collapsed": false,
    "pycharm": {
     "name": "#%%\n"
    }
   }
  },
  {
   "cell_type": "code",
   "execution_count": 25,
   "outputs": [
    {
     "data": {
      "text/plain": "0    Toyota Sienna\n1    Toyota Sienna\n2    Toyota Sienna\n3    Toyota Sienna\n4    Toyota Sienna\nName: car_type, dtype: object"
     },
     "execution_count": 25,
     "metadata": {},
     "output_type": "execute_result"
    }
   ],
   "source": [
    "# Select one column using single brackets\n",
    "# This produces a pandas series which is a one-dimensional array which can be labeled\n",
    "df['car_type'].head()"
   ],
   "metadata": {
    "collapsed": false,
    "pycharm": {
     "name": "#%%\n"
    }
   }
  },
  {
   "cell_type": "code",
   "execution_count": 26,
   "outputs": [
    {
     "data": {
      "text/plain": "pandas.core.series.Series"
     },
     "execution_count": 26,
     "metadata": {},
     "output_type": "execute_result"
    }
   ],
   "source": [
    "# This is a Pandas DataFrame\n",
    "type(df['car_type'].head())"
   ],
   "metadata": {
    "collapsed": false,
    "pycharm": {
     "name": "#%%\n"
    }
   }
  },
  {
   "cell_type": "code",
   "execution_count": 27,
   "outputs": [],
   "source": [
    "# Keep in mind that  you can't select multiple columns using single brackets\n",
    "# This will result in a KeyError\n",
    "# df['car_type', 'Principal Paid'].head()"
   ],
   "metadata": {
    "collapsed": false,
    "pycharm": {
     "name": "#%%\n"
    }
   }
  },
  {
   "cell_type": "markdown",
   "source": [
    "### Pandas Slicing\n",
    "\n",
    "With a pandas series, we can select rows using slicing like this: `series[start_index:end_index]`\n",
    "\n",
    "The `end_index` is not inclusive. This behavior is very similar to Python lists."
   ],
   "metadata": {
    "collapsed": false
   }
  },
  {
   "cell_type": "code",
   "execution_count": 28,
   "outputs": [
    {
     "data": {
      "text/plain": "0      Toyota Sienna\n1      Toyota Sienna\n2      Toyota Sienna\n3      Toyota Sienna\n4      Toyota Sienna\n           ...      \n403        VW Golf R\n404        VW Golf R\n405        VW Golf R\n406        VW Golf R\n407        VW Golf R\nName: car_type, Length: 408, dtype: object"
     },
     "execution_count": 28,
     "metadata": {},
     "output_type": "execute_result"
    }
   ],
   "source": [
    "df['car_type']"
   ],
   "metadata": {
    "collapsed": false,
    "pycharm": {
     "name": "#%%\n"
    }
   }
  },
  {
   "cell_type": "code",
   "execution_count": 29,
   "outputs": [
    {
     "data": {
      "text/plain": "0    Toyota Sienna\n1    Toyota Sienna\n2    Toyota Sienna\n3    Toyota Sienna\n4    Toyota Sienna\n5    Toyota Sienna\n6    Toyota Sienna\n7    Toyota Sienna\n8    Toyota Sienna\n9    Toyota Sienna\nName: car_type, dtype: object"
     },
     "execution_count": 29,
     "metadata": {},
     "output_type": "execute_result"
    }
   ],
   "source": [
    "df['car_type'][0:10]"
   ],
   "metadata": {
    "collapsed": false,
    "pycharm": {
     "name": "#%%\n"
    }
   }
  },
  {
   "cell_type": "code",
   "execution_count": 30,
   "outputs": [
    {
     "data": {
      "text/plain": "0    Toyota Sienna\n1    Toyota Sienna\n2    Toyota Sienna\n3    Toyota Sienna\n4    Toyota Sienna\nName: car_type, dtype: object"
     },
     "execution_count": 30,
     "metadata": {},
     "output_type": "execute_result"
    }
   ],
   "source": [
    "# Select column using dot notation\n",
    "# This is not recommended.\n",
    "df.car_type.head()"
   ],
   "metadata": {
    "collapsed": false,
    "pycharm": {
     "name": "#%%\n"
    }
   }
  },
  {
   "cell_type": "code",
   "execution_count": 31,
   "outputs": [
    {
     "data": {
      "text/plain": "\"\\nThis won't work as there is a space in the column name.\\nDot notation also fails if your column has the same name\\nof a DataFrame's attributes or methods.\\n\""
     },
     "execution_count": 31,
     "metadata": {},
     "output_type": "execute_result"
    }
   ],
   "source": [
    "\"\"\"\n",
    "This won't work as there is a space in the column name.\n",
    "Dot notation also fails if your column has the same name\n",
    "of a DataFrame's attributes or methods.\n",
    "\"\"\"\n",
    "# df.Principal Paid"
   ],
   "metadata": {
    "collapsed": false,
    "pycharm": {
     "name": "#%%\n"
    }
   }
  },
  {
   "cell_type": "code",
   "execution_count": 32,
   "outputs": [
    {
     "data": {
      "text/plain": "0      484.30\n1      487.13\n2      489.98\n3      492.85\n4      495.73\n        ...  \n403    786.47\n404    788.37\n405    790.27\n406    792.18\n407    794.10\nName: Principal Paid, Length: 408, dtype: float64"
     },
     "execution_count": 32,
     "metadata": {},
     "output_type": "execute_result"
    }
   ],
   "source": [
    "df['Principal Paid']"
   ],
   "metadata": {
    "collapsed": false,
    "pycharm": {
     "name": "#%%\n"
    }
   }
  },
  {
   "cell_type": "markdown",
   "source": [
    "### Selecting Columns using loc\n",
    "\n",
    "The pandas attributes `.loc` allow you to select columns, index, and slice your data."
   ],
   "metadata": {
    "collapsed": false
   }
  },
  {
   "cell_type": "code",
   "execution_count": 33,
   "outputs": [
    {
     "data": {
      "text/plain": "        car_type\n0  Toyota Sienna\n1  Toyota Sienna\n2  Toyota Sienna\n3  Toyota Sienna\n4  Toyota Sienna",
      "text/html": "<div>\n<style scoped>\n    .dataframe tbody tr th:only-of-type {\n        vertical-align: middle;\n    }\n\n    .dataframe tbody tr th {\n        vertical-align: top;\n    }\n\n    .dataframe thead th {\n        text-align: right;\n    }\n</style>\n<table border=\"1\" class=\"dataframe\">\n  <thead>\n    <tr style=\"text-align: right;\">\n      <th></th>\n      <th>car_type</th>\n    </tr>\n  </thead>\n  <tbody>\n    <tr>\n      <th>0</th>\n      <td>Toyota Sienna</td>\n    </tr>\n    <tr>\n      <th>1</th>\n      <td>Toyota Sienna</td>\n    </tr>\n    <tr>\n      <th>2</th>\n      <td>Toyota Sienna</td>\n    </tr>\n    <tr>\n      <th>3</th>\n      <td>Toyota Sienna</td>\n    </tr>\n    <tr>\n      <th>4</th>\n      <td>Toyota Sienna</td>\n    </tr>\n  </tbody>\n</table>\n</div>"
     },
     "execution_count": 33,
     "metadata": {},
     "output_type": "execute_result"
    }
   ],
   "source": [
    "# pandas dataframe\n",
    "df.loc[:, ['car_type']].head()"
   ],
   "metadata": {
    "collapsed": false,
    "pycharm": {
     "name": "#%%\n"
    }
   }
  },
  {
   "cell_type": "code",
   "execution_count": 34,
   "outputs": [
    {
     "data": {
      "text/plain": "0    Toyota Sienna\n1    Toyota Sienna\n2    Toyota Sienna\n3    Toyota Sienna\n4    Toyota Sienna\nName: car_type, dtype: object"
     },
     "execution_count": 34,
     "metadata": {},
     "output_type": "execute_result"
    }
   ],
   "source": [
    "# pandas series\n",
    "df.loc[:, 'car_type'].head()"
   ],
   "metadata": {
    "collapsed": false,
    "pycharm": {
     "name": "#%%\n"
    }
   }
  },
  {
   "cell_type": "markdown",
   "source": [
    "## **Filtering Data**"
   ],
   "metadata": {
    "collapsed": false
   }
  },
  {
   "cell_type": "markdown",
   "source": [
    "Filter out the data to only have data `car_type` of 'Toyota Sienna'."
   ],
   "metadata": {
    "collapsed": false
   }
  },
  {
   "cell_type": "code",
   "execution_count": 35,
   "outputs": [
    {
     "data": {
      "text/plain": "   Month  Starting Balance  Repayment  Interest Paid  Principal Paid  \\\n0      1          34689.96     687.23         202.93          484.30   \n1      2          34205.66     687.23         200.10          487.13   \n2      3          33718.53     687.23         197.25          489.98   \n3      4          33228.55     687.23         194.38          492.85   \n4      5          32735.70     687.23         191.50          495.73   \n\n   New Balance  term  interest_rate       car_type  \n0     34205.66    60         0.0702  Toyota Sienna  \n1     33718.53    60         0.0702  Toyota Sienna  \n2     33228.55    60         0.0702  Toyota Sienna  \n3     32735.70    60         0.0702  Toyota Sienna  \n4     32239.97    60         0.0702  Toyota Sienna  ",
      "text/html": "<div>\n<style scoped>\n    .dataframe tbody tr th:only-of-type {\n        vertical-align: middle;\n    }\n\n    .dataframe tbody tr th {\n        vertical-align: top;\n    }\n\n    .dataframe thead th {\n        text-align: right;\n    }\n</style>\n<table border=\"1\" class=\"dataframe\">\n  <thead>\n    <tr style=\"text-align: right;\">\n      <th></th>\n      <th>Month</th>\n      <th>Starting Balance</th>\n      <th>Repayment</th>\n      <th>Interest Paid</th>\n      <th>Principal Paid</th>\n      <th>New Balance</th>\n      <th>term</th>\n      <th>interest_rate</th>\n      <th>car_type</th>\n    </tr>\n  </thead>\n  <tbody>\n    <tr>\n      <th>0</th>\n      <td>1</td>\n      <td>34689.96</td>\n      <td>687.23</td>\n      <td>202.93</td>\n      <td>484.30</td>\n      <td>34205.66</td>\n      <td>60</td>\n      <td>0.0702</td>\n      <td>Toyota Sienna</td>\n    </tr>\n    <tr>\n      <th>1</th>\n      <td>2</td>\n      <td>34205.66</td>\n      <td>687.23</td>\n      <td>200.10</td>\n      <td>487.13</td>\n      <td>33718.53</td>\n      <td>60</td>\n      <td>0.0702</td>\n      <td>Toyota Sienna</td>\n    </tr>\n    <tr>\n      <th>2</th>\n      <td>3</td>\n      <td>33718.53</td>\n      <td>687.23</td>\n      <td>197.25</td>\n      <td>489.98</td>\n      <td>33228.55</td>\n      <td>60</td>\n      <td>0.0702</td>\n      <td>Toyota Sienna</td>\n    </tr>\n    <tr>\n      <th>3</th>\n      <td>4</td>\n      <td>33228.55</td>\n      <td>687.23</td>\n      <td>194.38</td>\n      <td>492.85</td>\n      <td>32735.70</td>\n      <td>60</td>\n      <td>0.0702</td>\n      <td>Toyota Sienna</td>\n    </tr>\n    <tr>\n      <th>4</th>\n      <td>5</td>\n      <td>32735.70</td>\n      <td>687.23</td>\n      <td>191.50</td>\n      <td>495.73</td>\n      <td>32239.97</td>\n      <td>60</td>\n      <td>0.0702</td>\n      <td>Toyota Sienna</td>\n    </tr>\n  </tbody>\n</table>\n</div>"
     },
     "execution_count": 35,
     "metadata": {},
     "output_type": "execute_result"
    }
   ],
   "source": [
    "df.head()"
   ],
   "metadata": {
    "collapsed": false,
    "pycharm": {
     "name": "#%%\n"
    }
   }
  },
  {
   "cell_type": "code",
   "execution_count": 36,
   "outputs": [
    {
     "data": {
      "text/plain": "VW Golf R         144\nToyota Sienna     120\nToyota Carolla    111\nToyota Corolla     33\nName: car_type, dtype: int64"
     },
     "execution_count": 36,
     "metadata": {},
     "output_type": "execute_result"
    }
   ],
   "source": [
    "# Let's first start by looking at the car_type column.\n",
    "df['car_type'].value_counts()"
   ],
   "metadata": {
    "collapsed": false,
    "pycharm": {
     "name": "#%%\n"
    }
   }
  },
  {
   "cell_type": "code",
   "execution_count": 37,
   "outputs": [],
   "source": [
    "# Notice that the filter produces a pandas series of True and False values\n",
    "car_filter = df['car_type'] == 'Toyota Sienna'"
   ],
   "metadata": {
    "collapsed": false,
    "pycharm": {
     "name": "#%%\n"
    }
   }
  },
  {
   "cell_type": "code",
   "execution_count": 38,
   "outputs": [
    {
     "data": {
      "text/plain": "0    True\n1    True\n2    True\n3    True\n4    True\nName: car_type, dtype: bool"
     },
     "execution_count": 38,
     "metadata": {},
     "output_type": "execute_result"
    }
   ],
   "source": [
    "car_filter.head()"
   ],
   "metadata": {
    "collapsed": false,
    "pycharm": {
     "name": "#%%\n"
    }
   }
  },
  {
   "cell_type": "code",
   "execution_count": 39,
   "outputs": [
    {
     "data": {
      "text/plain": "   Month  Starting Balance  Repayment  Interest Paid  Principal Paid  \\\n0      1          34689.96     687.23         202.93          484.30   \n1      2          34205.66     687.23         200.10          487.13   \n2      3          33718.53     687.23         197.25          489.98   \n3      4          33228.55     687.23         194.38          492.85   \n4      5          32735.70     687.23         191.50          495.73   \n\n   New Balance  term  interest_rate       car_type  \n0     34205.66    60         0.0702  Toyota Sienna  \n1     33718.53    60         0.0702  Toyota Sienna  \n2     33228.55    60         0.0702  Toyota Sienna  \n3     32735.70    60         0.0702  Toyota Sienna  \n4     32239.97    60         0.0702  Toyota Sienna  ",
      "text/html": "<div>\n<style scoped>\n    .dataframe tbody tr th:only-of-type {\n        vertical-align: middle;\n    }\n\n    .dataframe tbody tr th {\n        vertical-align: top;\n    }\n\n    .dataframe thead th {\n        text-align: right;\n    }\n</style>\n<table border=\"1\" class=\"dataframe\">\n  <thead>\n    <tr style=\"text-align: right;\">\n      <th></th>\n      <th>Month</th>\n      <th>Starting Balance</th>\n      <th>Repayment</th>\n      <th>Interest Paid</th>\n      <th>Principal Paid</th>\n      <th>New Balance</th>\n      <th>term</th>\n      <th>interest_rate</th>\n      <th>car_type</th>\n    </tr>\n  </thead>\n  <tbody>\n    <tr>\n      <th>0</th>\n      <td>1</td>\n      <td>34689.96</td>\n      <td>687.23</td>\n      <td>202.93</td>\n      <td>484.30</td>\n      <td>34205.66</td>\n      <td>60</td>\n      <td>0.0702</td>\n      <td>Toyota Sienna</td>\n    </tr>\n    <tr>\n      <th>1</th>\n      <td>2</td>\n      <td>34205.66</td>\n      <td>687.23</td>\n      <td>200.10</td>\n      <td>487.13</td>\n      <td>33718.53</td>\n      <td>60</td>\n      <td>0.0702</td>\n      <td>Toyota Sienna</td>\n    </tr>\n    <tr>\n      <th>2</th>\n      <td>3</td>\n      <td>33718.53</td>\n      <td>687.23</td>\n      <td>197.25</td>\n      <td>489.98</td>\n      <td>33228.55</td>\n      <td>60</td>\n      <td>0.0702</td>\n      <td>Toyota Sienna</td>\n    </tr>\n    <tr>\n      <th>3</th>\n      <td>4</td>\n      <td>33228.55</td>\n      <td>687.23</td>\n      <td>194.38</td>\n      <td>492.85</td>\n      <td>32735.70</td>\n      <td>60</td>\n      <td>0.0702</td>\n      <td>Toyota Sienna</td>\n    </tr>\n    <tr>\n      <th>4</th>\n      <td>5</td>\n      <td>32735.70</td>\n      <td>687.23</td>\n      <td>191.50</td>\n      <td>495.73</td>\n      <td>32239.97</td>\n      <td>60</td>\n      <td>0.0702</td>\n      <td>Toyota Sienna</td>\n    </tr>\n  </tbody>\n</table>\n</div>"
     },
     "execution_count": 39,
     "metadata": {},
     "output_type": "execute_result"
    }
   ],
   "source": [
    "# Approach 1 using square brackets\n",
    "# Filter dataframe to get a DataFrame for only 'Toyota Sienna'\n",
    "df[car_filter].head()"
   ],
   "metadata": {
    "collapsed": false,
    "pycharm": {
     "name": "#%%\n"
    }
   }
  },
  {
   "cell_type": "code",
   "execution_count": 40,
   "outputs": [
    {
     "data": {
      "text/plain": "   Month  Starting Balance  Repayment  Interest Paid  Principal Paid  \\\n0      1          34689.96     687.23         202.93          484.30   \n1      2          34205.66     687.23         200.10          487.13   \n2      3          33718.53     687.23         197.25          489.98   \n3      4          33228.55     687.23         194.38          492.85   \n4      5          32735.70     687.23         191.50          495.73   \n\n   New Balance  term  interest_rate       car_type  \n0     34205.66    60         0.0702  Toyota Sienna  \n1     33718.53    60         0.0702  Toyota Sienna  \n2     33228.55    60         0.0702  Toyota Sienna  \n3     32735.70    60         0.0702  Toyota Sienna  \n4     32239.97    60         0.0702  Toyota Sienna  ",
      "text/html": "<div>\n<style scoped>\n    .dataframe tbody tr th:only-of-type {\n        vertical-align: middle;\n    }\n\n    .dataframe tbody tr th {\n        vertical-align: top;\n    }\n\n    .dataframe thead th {\n        text-align: right;\n    }\n</style>\n<table border=\"1\" class=\"dataframe\">\n  <thead>\n    <tr style=\"text-align: right;\">\n      <th></th>\n      <th>Month</th>\n      <th>Starting Balance</th>\n      <th>Repayment</th>\n      <th>Interest Paid</th>\n      <th>Principal Paid</th>\n      <th>New Balance</th>\n      <th>term</th>\n      <th>interest_rate</th>\n      <th>car_type</th>\n    </tr>\n  </thead>\n  <tbody>\n    <tr>\n      <th>0</th>\n      <td>1</td>\n      <td>34689.96</td>\n      <td>687.23</td>\n      <td>202.93</td>\n      <td>484.30</td>\n      <td>34205.66</td>\n      <td>60</td>\n      <td>0.0702</td>\n      <td>Toyota Sienna</td>\n    </tr>\n    <tr>\n      <th>1</th>\n      <td>2</td>\n      <td>34205.66</td>\n      <td>687.23</td>\n      <td>200.10</td>\n      <td>487.13</td>\n      <td>33718.53</td>\n      <td>60</td>\n      <td>0.0702</td>\n      <td>Toyota Sienna</td>\n    </tr>\n    <tr>\n      <th>2</th>\n      <td>3</td>\n      <td>33718.53</td>\n      <td>687.23</td>\n      <td>197.25</td>\n      <td>489.98</td>\n      <td>33228.55</td>\n      <td>60</td>\n      <td>0.0702</td>\n      <td>Toyota Sienna</td>\n    </tr>\n    <tr>\n      <th>3</th>\n      <td>4</td>\n      <td>33228.55</td>\n      <td>687.23</td>\n      <td>194.38</td>\n      <td>492.85</td>\n      <td>32735.70</td>\n      <td>60</td>\n      <td>0.0702</td>\n      <td>Toyota Sienna</td>\n    </tr>\n    <tr>\n      <th>4</th>\n      <td>5</td>\n      <td>32735.70</td>\n      <td>687.23</td>\n      <td>191.50</td>\n      <td>495.73</td>\n      <td>32239.97</td>\n      <td>60</td>\n      <td>0.0702</td>\n      <td>Toyota Sienna</td>\n    </tr>\n  </tbody>\n</table>\n</div>"
     },
     "execution_count": 40,
     "metadata": {},
     "output_type": "execute_result"
    }
   ],
   "source": [
    "# Approach 2 using loc\n",
    "# Filter dataframe to get a DataFrame for only ''Toyota Sienna'\n",
    "df.loc[car_filter, :].head()"
   ],
   "metadata": {
    "collapsed": false,
    "pycharm": {
     "name": "#%%\n"
    }
   }
  },
  {
   "cell_type": "code",
   "execution_count": 41,
   "outputs": [
    {
     "data": {
      "text/plain": "VW Golf R         144\nToyota Sienna     120\nToyota Carolla    111\nToyota Corolla     33\nName: car_type, dtype: int64"
     },
     "execution_count": 41,
     "metadata": {},
     "output_type": "execute_result"
    }
   ],
   "source": [
    "# Notice that it looks like nothing changed\n",
    "# This is because we didn't update the dataframe after applying the filter\n",
    "df['car_type'].value_counts()"
   ],
   "metadata": {
    "collapsed": false,
    "pycharm": {
     "name": "#%%\n"
    }
   }
  },
  {
   "cell_type": "code",
   "execution_count": 42,
   "outputs": [],
   "source": [
    "# Filter dataframe to get a DataFrame for only 'Toyota Sienna'\n",
    "df = df.loc[car_filter, :]"
   ],
   "metadata": {
    "collapsed": false,
    "pycharm": {
     "name": "#%%\n"
    }
   }
  },
  {
   "cell_type": "code",
   "execution_count": 43,
   "outputs": [
    {
     "data": {
      "text/plain": "Toyota Sienna    120\nName: car_type, dtype: int64"
     },
     "execution_count": 43,
     "metadata": {},
     "output_type": "execute_result"
    }
   ],
   "source": [
    "df['car_type'].value_counts()"
   ],
   "metadata": {
    "collapsed": false,
    "pycharm": {
     "name": "#%%\n"
    }
   }
  },
  {
   "cell_type": "markdown",
   "source": [
    "### Combining Filters"
   ],
   "metadata": {
    "collapsed": false
   }
  },
  {
   "cell_type": "code",
   "execution_count": 44,
   "outputs": [],
   "source": [
    "interest_filter  = df['interest_rate'] == 0.0702\n",
    "car_filter = df['car_type'] == 'Toyota Sienna'"
   ],
   "metadata": {
    "collapsed": false,
    "pycharm": {
     "name": "#%%\n"
    }
   }
  },
  {
   "cell_type": "code",
   "execution_count": 45,
   "outputs": [
    {
     "data": {
      "text/plain": "   Month  Starting Balance  Repayment  Interest Paid  Principal Paid  \\\n0      1          34689.96     687.23         202.93          484.30   \n1      2          34205.66     687.23         200.10          487.13   \n2      3          33718.53     687.23         197.25          489.98   \n3      4          33228.55     687.23         194.38          492.85   \n4      5          32735.70     687.23         191.50          495.73   \n\n   New Balance  term  interest_rate       car_type  \n0     34205.66    60         0.0702  Toyota Sienna  \n1     33718.53    60         0.0702  Toyota Sienna  \n2     33228.55    60         0.0702  Toyota Sienna  \n3     32735.70    60         0.0702  Toyota Sienna  \n4     32239.97    60         0.0702  Toyota Sienna  ",
      "text/html": "<div>\n<style scoped>\n    .dataframe tbody tr th:only-of-type {\n        vertical-align: middle;\n    }\n\n    .dataframe tbody tr th {\n        vertical-align: top;\n    }\n\n    .dataframe thead th {\n        text-align: right;\n    }\n</style>\n<table border=\"1\" class=\"dataframe\">\n  <thead>\n    <tr style=\"text-align: right;\">\n      <th></th>\n      <th>Month</th>\n      <th>Starting Balance</th>\n      <th>Repayment</th>\n      <th>Interest Paid</th>\n      <th>Principal Paid</th>\n      <th>New Balance</th>\n      <th>term</th>\n      <th>interest_rate</th>\n      <th>car_type</th>\n    </tr>\n  </thead>\n  <tbody>\n    <tr>\n      <th>0</th>\n      <td>1</td>\n      <td>34689.96</td>\n      <td>687.23</td>\n      <td>202.93</td>\n      <td>484.30</td>\n      <td>34205.66</td>\n      <td>60</td>\n      <td>0.0702</td>\n      <td>Toyota Sienna</td>\n    </tr>\n    <tr>\n      <th>1</th>\n      <td>2</td>\n      <td>34205.66</td>\n      <td>687.23</td>\n      <td>200.10</td>\n      <td>487.13</td>\n      <td>33718.53</td>\n      <td>60</td>\n      <td>0.0702</td>\n      <td>Toyota Sienna</td>\n    </tr>\n    <tr>\n      <th>2</th>\n      <td>3</td>\n      <td>33718.53</td>\n      <td>687.23</td>\n      <td>197.25</td>\n      <td>489.98</td>\n      <td>33228.55</td>\n      <td>60</td>\n      <td>0.0702</td>\n      <td>Toyota Sienna</td>\n    </tr>\n    <tr>\n      <th>3</th>\n      <td>4</td>\n      <td>33228.55</td>\n      <td>687.23</td>\n      <td>194.38</td>\n      <td>492.85</td>\n      <td>32735.70</td>\n      <td>60</td>\n      <td>0.0702</td>\n      <td>Toyota Sienna</td>\n    </tr>\n    <tr>\n      <th>4</th>\n      <td>5</td>\n      <td>32735.70</td>\n      <td>687.23</td>\n      <td>191.50</td>\n      <td>495.73</td>\n      <td>32239.97</td>\n      <td>60</td>\n      <td>0.0702</td>\n      <td>Toyota Sienna</td>\n    </tr>\n  </tbody>\n</table>\n</div>"
     },
     "execution_count": 45,
     "metadata": {},
     "output_type": "execute_result"
    }
   ],
   "source": [
    "df.loc[car_filter & interest_filter, :].head()"
   ],
   "metadata": {
    "collapsed": false,
    "pycharm": {
     "name": "#%%\n"
    }
   }
  },
  {
   "cell_type": "markdown",
   "source": [
    "## **Renaming and deleting columns**"
   ],
   "metadata": {
    "collapsed": false
   }
  },
  {
   "cell_type": "markdown",
   "source": [
    "**Managing Columns**\n",
    "\n",
    "- Change column names\n",
    "- Remove unnecessary columns\n",
    "\n",
    "**Rename columns**\n",
    "\n",
    "Here are two popular ways to rename dataframe columns:\n",
    "\n",
    "1. **dictionary substitution:** very useful if you only want to rename a few of the columns.\n",
    "2. **list replacement:** requires a full list of names."
   ],
   "metadata": {
    "collapsed": false
   }
  },
  {
   "cell_type": "code",
   "execution_count": 46,
   "outputs": [
    {
     "data": {
      "text/plain": "   Month  Starting Balance  Repayment  Interest Paid  Principal Paid  \\\n0      1          34689.96     687.23         202.93          484.30   \n1      2          34205.66     687.23         200.10          487.13   \n2      3          33718.53     687.23         197.25          489.98   \n3      4          33228.55     687.23         194.38          492.85   \n4      5          32735.70     687.23         191.50          495.73   \n\n   New Balance  term  interest_rate       car_type  \n0     34205.66    60         0.0702  Toyota Sienna  \n1     33718.53    60         0.0702  Toyota Sienna  \n2     33228.55    60         0.0702  Toyota Sienna  \n3     32735.70    60         0.0702  Toyota Sienna  \n4     32239.97    60         0.0702  Toyota Sienna  ",
      "text/html": "<div>\n<style scoped>\n    .dataframe tbody tr th:only-of-type {\n        vertical-align: middle;\n    }\n\n    .dataframe tbody tr th {\n        vertical-align: top;\n    }\n\n    .dataframe thead th {\n        text-align: right;\n    }\n</style>\n<table border=\"1\" class=\"dataframe\">\n  <thead>\n    <tr style=\"text-align: right;\">\n      <th></th>\n      <th>Month</th>\n      <th>Starting Balance</th>\n      <th>Repayment</th>\n      <th>Interest Paid</th>\n      <th>Principal Paid</th>\n      <th>New Balance</th>\n      <th>term</th>\n      <th>interest_rate</th>\n      <th>car_type</th>\n    </tr>\n  </thead>\n  <tbody>\n    <tr>\n      <th>0</th>\n      <td>1</td>\n      <td>34689.96</td>\n      <td>687.23</td>\n      <td>202.93</td>\n      <td>484.30</td>\n      <td>34205.66</td>\n      <td>60</td>\n      <td>0.0702</td>\n      <td>Toyota Sienna</td>\n    </tr>\n    <tr>\n      <th>1</th>\n      <td>2</td>\n      <td>34205.66</td>\n      <td>687.23</td>\n      <td>200.10</td>\n      <td>487.13</td>\n      <td>33718.53</td>\n      <td>60</td>\n      <td>0.0702</td>\n      <td>Toyota Sienna</td>\n    </tr>\n    <tr>\n      <th>2</th>\n      <td>3</td>\n      <td>33718.53</td>\n      <td>687.23</td>\n      <td>197.25</td>\n      <td>489.98</td>\n      <td>33228.55</td>\n      <td>60</td>\n      <td>0.0702</td>\n      <td>Toyota Sienna</td>\n    </tr>\n    <tr>\n      <th>3</th>\n      <td>4</td>\n      <td>33228.55</td>\n      <td>687.23</td>\n      <td>194.38</td>\n      <td>492.85</td>\n      <td>32735.70</td>\n      <td>60</td>\n      <td>0.0702</td>\n      <td>Toyota Sienna</td>\n    </tr>\n    <tr>\n      <th>4</th>\n      <td>5</td>\n      <td>32735.70</td>\n      <td>687.23</td>\n      <td>191.50</td>\n      <td>495.73</td>\n      <td>32239.97</td>\n      <td>60</td>\n      <td>0.0702</td>\n      <td>Toyota Sienna</td>\n    </tr>\n  </tbody>\n</table>\n</div>"
     },
     "execution_count": 46,
     "metadata": {},
     "output_type": "execute_result"
    }
   ],
   "source": [
    "# DataFrame before renaming columns\n",
    "df.head()"
   ],
   "metadata": {
    "collapsed": false,
    "pycharm": {
     "name": "#%%\n"
    }
   }
  },
  {
   "cell_type": "code",
   "execution_count": 47,
   "outputs": [],
   "source": [
    "# df.Principal Paid\n",
    "# This won't work as there is a space in the column name\n",
    "# I want to fix that\n",
    "df = df.rename(columns={'Starting Balance': 'starting_balance',\n",
    "                        'Interest Paid': 'interest_paid',\n",
    "                        'Principal Paid': 'principal_paid',\n",
    "                        'New Balance': 'new_balance'})"
   ],
   "metadata": {
    "collapsed": false,
    "pycharm": {
     "name": "#%%\n"
    }
   }
  },
  {
   "cell_type": "code",
   "execution_count": 48,
   "outputs": [
    {
     "data": {
      "text/plain": "   Month  starting_balance  Repayment  interest_paid  principal_paid  \\\n0      1          34689.96     687.23         202.93          484.30   \n1      2          34205.66     687.23         200.10          487.13   \n2      3          33718.53     687.23         197.25          489.98   \n3      4          33228.55     687.23         194.38          492.85   \n4      5          32735.70     687.23         191.50          495.73   \n\n   new_balance  term  interest_rate       car_type  \n0     34205.66    60         0.0702  Toyota Sienna  \n1     33718.53    60         0.0702  Toyota Sienna  \n2     33228.55    60         0.0702  Toyota Sienna  \n3     32735.70    60         0.0702  Toyota Sienna  \n4     32239.97    60         0.0702  Toyota Sienna  ",
      "text/html": "<div>\n<style scoped>\n    .dataframe tbody tr th:only-of-type {\n        vertical-align: middle;\n    }\n\n    .dataframe tbody tr th {\n        vertical-align: top;\n    }\n\n    .dataframe thead th {\n        text-align: right;\n    }\n</style>\n<table border=\"1\" class=\"dataframe\">\n  <thead>\n    <tr style=\"text-align: right;\">\n      <th></th>\n      <th>Month</th>\n      <th>starting_balance</th>\n      <th>Repayment</th>\n      <th>interest_paid</th>\n      <th>principal_paid</th>\n      <th>new_balance</th>\n      <th>term</th>\n      <th>interest_rate</th>\n      <th>car_type</th>\n    </tr>\n  </thead>\n  <tbody>\n    <tr>\n      <th>0</th>\n      <td>1</td>\n      <td>34689.96</td>\n      <td>687.23</td>\n      <td>202.93</td>\n      <td>484.30</td>\n      <td>34205.66</td>\n      <td>60</td>\n      <td>0.0702</td>\n      <td>Toyota Sienna</td>\n    </tr>\n    <tr>\n      <th>1</th>\n      <td>2</td>\n      <td>34205.66</td>\n      <td>687.23</td>\n      <td>200.10</td>\n      <td>487.13</td>\n      <td>33718.53</td>\n      <td>60</td>\n      <td>0.0702</td>\n      <td>Toyota Sienna</td>\n    </tr>\n    <tr>\n      <th>2</th>\n      <td>3</td>\n      <td>33718.53</td>\n      <td>687.23</td>\n      <td>197.25</td>\n      <td>489.98</td>\n      <td>33228.55</td>\n      <td>60</td>\n      <td>0.0702</td>\n      <td>Toyota Sienna</td>\n    </tr>\n    <tr>\n      <th>3</th>\n      <td>4</td>\n      <td>33228.55</td>\n      <td>687.23</td>\n      <td>194.38</td>\n      <td>492.85</td>\n      <td>32735.70</td>\n      <td>60</td>\n      <td>0.0702</td>\n      <td>Toyota Sienna</td>\n    </tr>\n    <tr>\n      <th>4</th>\n      <td>5</td>\n      <td>32735.70</td>\n      <td>687.23</td>\n      <td>191.50</td>\n      <td>495.73</td>\n      <td>32239.97</td>\n      <td>60</td>\n      <td>0.0702</td>\n      <td>Toyota Sienna</td>\n    </tr>\n  </tbody>\n</table>\n</div>"
     },
     "execution_count": 48,
     "metadata": {},
     "output_type": "execute_result"
    }
   ],
   "source": [
    "df.head()"
   ],
   "metadata": {
    "collapsed": false,
    "pycharm": {
     "name": "#%%\n"
    }
   }
  },
  {
   "cell_type": "code",
   "execution_count": 49,
   "outputs": [],
   "source": [
    "# Approach 2 List replacement\n",
    "# Only changing Month -> month, but we need to list the rest of the columns\n",
    "df.columns = ['month',\n",
    "              'starting_balance',\n",
    "              'Repayment',\n",
    "              'interest_paid',\n",
    "              'principal_paid',\n",
    "              'new_balance',\n",
    "              'term',\n",
    "              'interest_rate',\n",
    "              'car_type']"
   ],
   "metadata": {
    "collapsed": false,
    "pycharm": {
     "name": "#%%\n"
    }
   }
  },
  {
   "cell_type": "code",
   "execution_count": 50,
   "outputs": [
    {
     "data": {
      "text/plain": "   month  starting_balance  Repayment  interest_paid  principal_paid  \\\n0      1          34689.96     687.23         202.93          484.30   \n1      2          34205.66     687.23         200.10          487.13   \n2      3          33718.53     687.23         197.25          489.98   \n3      4          33228.55     687.23         194.38          492.85   \n4      5          32735.70     687.23         191.50          495.73   \n\n   new_balance  term  interest_rate       car_type  \n0     34205.66    60         0.0702  Toyota Sienna  \n1     33718.53    60         0.0702  Toyota Sienna  \n2     33228.55    60         0.0702  Toyota Sienna  \n3     32735.70    60         0.0702  Toyota Sienna  \n4     32239.97    60         0.0702  Toyota Sienna  ",
      "text/html": "<div>\n<style scoped>\n    .dataframe tbody tr th:only-of-type {\n        vertical-align: middle;\n    }\n\n    .dataframe tbody tr th {\n        vertical-align: top;\n    }\n\n    .dataframe thead th {\n        text-align: right;\n    }\n</style>\n<table border=\"1\" class=\"dataframe\">\n  <thead>\n    <tr style=\"text-align: right;\">\n      <th></th>\n      <th>month</th>\n      <th>starting_balance</th>\n      <th>Repayment</th>\n      <th>interest_paid</th>\n      <th>principal_paid</th>\n      <th>new_balance</th>\n      <th>term</th>\n      <th>interest_rate</th>\n      <th>car_type</th>\n    </tr>\n  </thead>\n  <tbody>\n    <tr>\n      <th>0</th>\n      <td>1</td>\n      <td>34689.96</td>\n      <td>687.23</td>\n      <td>202.93</td>\n      <td>484.30</td>\n      <td>34205.66</td>\n      <td>60</td>\n      <td>0.0702</td>\n      <td>Toyota Sienna</td>\n    </tr>\n    <tr>\n      <th>1</th>\n      <td>2</td>\n      <td>34205.66</td>\n      <td>687.23</td>\n      <td>200.10</td>\n      <td>487.13</td>\n      <td>33718.53</td>\n      <td>60</td>\n      <td>0.0702</td>\n      <td>Toyota Sienna</td>\n    </tr>\n    <tr>\n      <th>2</th>\n      <td>3</td>\n      <td>33718.53</td>\n      <td>687.23</td>\n      <td>197.25</td>\n      <td>489.98</td>\n      <td>33228.55</td>\n      <td>60</td>\n      <td>0.0702</td>\n      <td>Toyota Sienna</td>\n    </tr>\n    <tr>\n      <th>3</th>\n      <td>4</td>\n      <td>33228.55</td>\n      <td>687.23</td>\n      <td>194.38</td>\n      <td>492.85</td>\n      <td>32735.70</td>\n      <td>60</td>\n      <td>0.0702</td>\n      <td>Toyota Sienna</td>\n    </tr>\n    <tr>\n      <th>4</th>\n      <td>5</td>\n      <td>32735.70</td>\n      <td>687.23</td>\n      <td>191.50</td>\n      <td>495.73</td>\n      <td>32239.97</td>\n      <td>60</td>\n      <td>0.0702</td>\n      <td>Toyota Sienna</td>\n    </tr>\n  </tbody>\n</table>\n</div>"
     },
     "execution_count": 50,
     "metadata": {},
     "output_type": "execute_result"
    }
   ],
   "source": [
    "df.head()"
   ],
   "metadata": {
    "collapsed": false,
    "pycharm": {
     "name": "#%%\n"
    }
   }
  },
  {
   "cell_type": "markdown",
   "source": [
    "### Deleting Columns"
   ],
   "metadata": {
    "collapsed": false
   }
  },
  {
   "cell_type": "code",
   "execution_count": 51,
   "outputs": [],
   "source": [
    "# Approach 1\n",
    "# This approach allows you to drop multiple columns at a time\n",
    "df = df.drop(columns=['term'])"
   ],
   "metadata": {
    "collapsed": false,
    "pycharm": {
     "name": "#%%\n"
    }
   }
  },
  {
   "cell_type": "code",
   "execution_count": 52,
   "outputs": [
    {
     "data": {
      "text/plain": "   month  starting_balance  Repayment  interest_paid  principal_paid  \\\n0      1          34689.96     687.23         202.93          484.30   \n1      2          34205.66     687.23         200.10          487.13   \n2      3          33718.53     687.23         197.25          489.98   \n3      4          33228.55     687.23         194.38          492.85   \n4      5          32735.70     687.23         191.50          495.73   \n\n   new_balance  interest_rate       car_type  \n0     34205.66         0.0702  Toyota Sienna  \n1     33718.53         0.0702  Toyota Sienna  \n2     33228.55         0.0702  Toyota Sienna  \n3     32735.70         0.0702  Toyota Sienna  \n4     32239.97         0.0702  Toyota Sienna  ",
      "text/html": "<div>\n<style scoped>\n    .dataframe tbody tr th:only-of-type {\n        vertical-align: middle;\n    }\n\n    .dataframe tbody tr th {\n        vertical-align: top;\n    }\n\n    .dataframe thead th {\n        text-align: right;\n    }\n</style>\n<table border=\"1\" class=\"dataframe\">\n  <thead>\n    <tr style=\"text-align: right;\">\n      <th></th>\n      <th>month</th>\n      <th>starting_balance</th>\n      <th>Repayment</th>\n      <th>interest_paid</th>\n      <th>principal_paid</th>\n      <th>new_balance</th>\n      <th>interest_rate</th>\n      <th>car_type</th>\n    </tr>\n  </thead>\n  <tbody>\n    <tr>\n      <th>0</th>\n      <td>1</td>\n      <td>34689.96</td>\n      <td>687.23</td>\n      <td>202.93</td>\n      <td>484.30</td>\n      <td>34205.66</td>\n      <td>0.0702</td>\n      <td>Toyota Sienna</td>\n    </tr>\n    <tr>\n      <th>1</th>\n      <td>2</td>\n      <td>34205.66</td>\n      <td>687.23</td>\n      <td>200.10</td>\n      <td>487.13</td>\n      <td>33718.53</td>\n      <td>0.0702</td>\n      <td>Toyota Sienna</td>\n    </tr>\n    <tr>\n      <th>2</th>\n      <td>3</td>\n      <td>33718.53</td>\n      <td>687.23</td>\n      <td>197.25</td>\n      <td>489.98</td>\n      <td>33228.55</td>\n      <td>0.0702</td>\n      <td>Toyota Sienna</td>\n    </tr>\n    <tr>\n      <th>3</th>\n      <td>4</td>\n      <td>33228.55</td>\n      <td>687.23</td>\n      <td>194.38</td>\n      <td>492.85</td>\n      <td>32735.70</td>\n      <td>0.0702</td>\n      <td>Toyota Sienna</td>\n    </tr>\n    <tr>\n      <th>4</th>\n      <td>5</td>\n      <td>32735.70</td>\n      <td>687.23</td>\n      <td>191.50</td>\n      <td>495.73</td>\n      <td>32239.97</td>\n      <td>0.0702</td>\n      <td>Toyota Sienna</td>\n    </tr>\n  </tbody>\n</table>\n</div>"
     },
     "execution_count": 52,
     "metadata": {},
     "output_type": "execute_result"
    }
   ],
   "source": [
    "df.head()"
   ],
   "metadata": {
    "collapsed": false,
    "pycharm": {
     "name": "#%%\n"
    }
   }
  },
  {
   "cell_type": "code",
   "execution_count": 53,
   "outputs": [],
   "source": [
    "# Approach 2 use the del command\n",
    "del df['Repayment']"
   ],
   "metadata": {
    "collapsed": false,
    "pycharm": {
     "name": "#%%\n"
    }
   }
  },
  {
   "cell_type": "code",
   "execution_count": 54,
   "outputs": [
    {
     "data": {
      "text/plain": "   month  starting_balance  interest_paid  principal_paid  new_balance  \\\n0      1          34689.96         202.93          484.30     34205.66   \n1      2          34205.66         200.10          487.13     33718.53   \n2      3          33718.53         197.25          489.98     33228.55   \n3      4          33228.55         194.38          492.85     32735.70   \n4      5          32735.70         191.50          495.73     32239.97   \n\n   interest_rate       car_type  \n0         0.0702  Toyota Sienna  \n1         0.0702  Toyota Sienna  \n2         0.0702  Toyota Sienna  \n3         0.0702  Toyota Sienna  \n4         0.0702  Toyota Sienna  ",
      "text/html": "<div>\n<style scoped>\n    .dataframe tbody tr th:only-of-type {\n        vertical-align: middle;\n    }\n\n    .dataframe tbody tr th {\n        vertical-align: top;\n    }\n\n    .dataframe thead th {\n        text-align: right;\n    }\n</style>\n<table border=\"1\" class=\"dataframe\">\n  <thead>\n    <tr style=\"text-align: right;\">\n      <th></th>\n      <th>month</th>\n      <th>starting_balance</th>\n      <th>interest_paid</th>\n      <th>principal_paid</th>\n      <th>new_balance</th>\n      <th>interest_rate</th>\n      <th>car_type</th>\n    </tr>\n  </thead>\n  <tbody>\n    <tr>\n      <th>0</th>\n      <td>1</td>\n      <td>34689.96</td>\n      <td>202.93</td>\n      <td>484.30</td>\n      <td>34205.66</td>\n      <td>0.0702</td>\n      <td>Toyota Sienna</td>\n    </tr>\n    <tr>\n      <th>1</th>\n      <td>2</td>\n      <td>34205.66</td>\n      <td>200.10</td>\n      <td>487.13</td>\n      <td>33718.53</td>\n      <td>0.0702</td>\n      <td>Toyota Sienna</td>\n    </tr>\n    <tr>\n      <th>2</th>\n      <td>3</td>\n      <td>33718.53</td>\n      <td>197.25</td>\n      <td>489.98</td>\n      <td>33228.55</td>\n      <td>0.0702</td>\n      <td>Toyota Sienna</td>\n    </tr>\n    <tr>\n      <th>3</th>\n      <td>4</td>\n      <td>33228.55</td>\n      <td>194.38</td>\n      <td>492.85</td>\n      <td>32735.70</td>\n      <td>0.0702</td>\n      <td>Toyota Sienna</td>\n    </tr>\n    <tr>\n      <th>4</th>\n      <td>5</td>\n      <td>32735.70</td>\n      <td>191.50</td>\n      <td>495.73</td>\n      <td>32239.97</td>\n      <td>0.0702</td>\n      <td>Toyota Sienna</td>\n    </tr>\n  </tbody>\n</table>\n</div>"
     },
     "execution_count": 54,
     "metadata": {},
     "output_type": "execute_result"
    }
   ],
   "source": [
    "df.head()"
   ],
   "metadata": {
    "collapsed": false,
    "pycharm": {
     "name": "#%%\n"
    }
   }
  },
  {
   "cell_type": "markdown",
   "source": [
    "## **Aggregate Functions**"
   ],
   "metadata": {
    "collapsed": false
   }
  },
  {
   "cell_type": "markdown",
   "source": [
    "When working with a dataset it's a good idea to compute summary statistics."
   ],
   "metadata": {
    "collapsed": false
   }
  },
  {
   "cell_type": "code",
   "execution_count": 55,
   "outputs": [
    {
     "data": {
      "text/plain": "   month  starting_balance  interest_paid  principal_paid  new_balance  \\\n0      1          34689.96         202.93          484.30     34205.66   \n1      2          34205.66         200.10          487.13     33718.53   \n2      3          33718.53         197.25          489.98     33228.55   \n3      4          33228.55         194.38          492.85     32735.70   \n4      5          32735.70         191.50          495.73     32239.97   \n\n   interest_rate       car_type  \n0         0.0702  Toyota Sienna  \n1         0.0702  Toyota Sienna  \n2         0.0702  Toyota Sienna  \n3         0.0702  Toyota Sienna  \n4         0.0702  Toyota Sienna  ",
      "text/html": "<div>\n<style scoped>\n    .dataframe tbody tr th:only-of-type {\n        vertical-align: middle;\n    }\n\n    .dataframe tbody tr th {\n        vertical-align: top;\n    }\n\n    .dataframe thead th {\n        text-align: right;\n    }\n</style>\n<table border=\"1\" class=\"dataframe\">\n  <thead>\n    <tr style=\"text-align: right;\">\n      <th></th>\n      <th>month</th>\n      <th>starting_balance</th>\n      <th>interest_paid</th>\n      <th>principal_paid</th>\n      <th>new_balance</th>\n      <th>interest_rate</th>\n      <th>car_type</th>\n    </tr>\n  </thead>\n  <tbody>\n    <tr>\n      <th>0</th>\n      <td>1</td>\n      <td>34689.96</td>\n      <td>202.93</td>\n      <td>484.30</td>\n      <td>34205.66</td>\n      <td>0.0702</td>\n      <td>Toyota Sienna</td>\n    </tr>\n    <tr>\n      <th>1</th>\n      <td>2</td>\n      <td>34205.66</td>\n      <td>200.10</td>\n      <td>487.13</td>\n      <td>33718.53</td>\n      <td>0.0702</td>\n      <td>Toyota Sienna</td>\n    </tr>\n    <tr>\n      <th>2</th>\n      <td>3</td>\n      <td>33718.53</td>\n      <td>197.25</td>\n      <td>489.98</td>\n      <td>33228.55</td>\n      <td>0.0702</td>\n      <td>Toyota Sienna</td>\n    </tr>\n    <tr>\n      <th>3</th>\n      <td>4</td>\n      <td>33228.55</td>\n      <td>194.38</td>\n      <td>492.85</td>\n      <td>32735.70</td>\n      <td>0.0702</td>\n      <td>Toyota Sienna</td>\n    </tr>\n    <tr>\n      <th>4</th>\n      <td>5</td>\n      <td>32735.70</td>\n      <td>191.50</td>\n      <td>495.73</td>\n      <td>32239.97</td>\n      <td>0.0702</td>\n      <td>Toyota Sienna</td>\n    </tr>\n  </tbody>\n</table>\n</div>"
     },
     "execution_count": 55,
     "metadata": {},
     "output_type": "execute_result"
    }
   ],
   "source": [
    "df.head()"
   ],
   "metadata": {
    "collapsed": false,
    "pycharm": {
     "name": "#%%\n"
    }
   }
  },
  {
   "cell_type": "code",
   "execution_count": 56,
   "outputs": [
    {
     "data": {
      "text/plain": "9708.15"
     },
     "execution_count": 56,
     "metadata": {},
     "output_type": "execute_result"
    }
   ],
   "source": [
    "# sum the values in a column\n",
    "# total amount of interest paid over the course of the loan\n",
    "df['interest_paid'].sum()"
   ],
   "metadata": {
    "collapsed": false,
    "pycharm": {
     "name": "#%%\n"
    }
   }
  },
  {
   "cell_type": "code",
   "execution_count": 57,
   "outputs": [
    {
     "data": {
      "text/plain": "month                                                            3660\nstarting_balance                                           2207694.02\ninterest_paid                                                 9708.15\nprincipal_paid                                               69380.61\nnew_balance                                                2138313.41\ninterest_rate                                                   6.366\ncar_type            Toyota SiennaToyota SiennaToyota SiennaToyota ...\ndtype: object"
     },
     "execution_count": 57,
     "metadata": {},
     "output_type": "execute_result"
    }
   ],
   "source": [
    "# sum all the values across all columns\n",
    "df.sum()"
   ],
   "metadata": {
    "collapsed": false,
    "pycharm": {
     "name": "#%%\n"
    }
   }
  },
  {
   "cell_type": "code",
   "execution_count": 58,
   "outputs": [
    {
     "data": {
      "text/plain": "'Toyota SiennaToyota Sienna'"
     },
     "execution_count": 58,
     "metadata": {},
     "output_type": "execute_result"
    }
   ],
   "source": [
    "'Toyota Sienna' + 'Toyota Sienna'"
   ],
   "metadata": {
    "collapsed": false,
    "pycharm": {
     "name": "#%%\n"
    }
   }
  },
  {
   "cell_type": "code",
   "execution_count": 59,
   "outputs": [
    {
     "name": "stdout",
     "output_type": "stream",
     "text": [
      "Help on method sum in module pandas.core.generic:\n",
      "\n",
      "sum(axis=None, skipna=None, level=None, numeric_only=None, min_count=0, **kwargs) method of pandas.core.series.Series instance\n",
      "    Return the sum of the values over the requested axis.\n",
      "    \n",
      "    This is equivalent to the method ``numpy.sum``.\n",
      "    \n",
      "    Parameters\n",
      "    ----------\n",
      "    axis : {index (0)}\n",
      "        Axis for the function to be applied on.\n",
      "    skipna : bool, default True\n",
      "        Exclude NA/null values when computing the result.\n",
      "    level : int or level name, default None\n",
      "        If the axis is a MultiIndex (hierarchical), count along a\n",
      "        particular level, collapsing into a scalar.\n",
      "    numeric_only : bool, default None\n",
      "        Include only float, int, boolean columns. If None, will attempt to use\n",
      "        everything, then use only numeric data. Not implemented for Series.\n",
      "    min_count : int, default 0\n",
      "        The required number of valid values to perform the operation. If fewer than\n",
      "        ``min_count`` non-NA values are present the result will be NA.\n",
      "    **kwargs\n",
      "        Additional keyword arguments to be passed to the function.\n",
      "    \n",
      "    Returns\n",
      "    -------\n",
      "    scalar or Series (if level specified)\n",
      "    \n",
      "    See Also\n",
      "    --------\n",
      "    Series.sum : Return the sum.\n",
      "    Series.min : Return the minimum.\n",
      "    Series.max : Return the maximum.\n",
      "    Series.idxmin : Return the index of the minimum.\n",
      "    Series.idxmax : Return the index of the maximum.\n",
      "    DataFrame.sum : Return the sum over the requested axis.\n",
      "    DataFrame.min : Return the minimum over the requested axis.\n",
      "    DataFrame.max : Return the maximum over the requested axis.\n",
      "    DataFrame.idxmin : Return the index of the minimum over the requested axis.\n",
      "    DataFrame.idxmax : Return the index of the maximum over the requested axis.\n",
      "    \n",
      "    Examples\n",
      "    --------\n",
      "    >>> idx = pd.MultiIndex.from_arrays([\n",
      "    ...     ['warm', 'warm', 'cold', 'cold'],\n",
      "    ...     ['dog', 'falcon', 'fish', 'spider']],\n",
      "    ...     names=['blooded', 'animal'])\n",
      "    >>> s = pd.Series([4, 2, 0, 8], name='legs', index=idx)\n",
      "    >>> s\n",
      "    blooded  animal\n",
      "    warm     dog       4\n",
      "             falcon    2\n",
      "    cold     fish      0\n",
      "             spider    8\n",
      "    Name: legs, dtype: int64\n",
      "    \n",
      "    >>> s.sum()\n",
      "    14\n",
      "    \n",
      "    Sum using level names, as well as indices.\n",
      "    \n",
      "    >>> s.sum(level='blooded')\n",
      "    blooded\n",
      "    warm    6\n",
      "    cold    8\n",
      "    Name: legs, dtype: int64\n",
      "    \n",
      "    >>> s.sum(level=0)\n",
      "    blooded\n",
      "    warm    6\n",
      "    cold    8\n",
      "    Name: legs, dtype: int64\n",
      "    \n",
      "    By default, the sum of an empty or all-NA Series is ``0``.\n",
      "    \n",
      "    >>> pd.Series([]).sum()  # min_count=0 is the default\n",
      "    0.0\n",
      "    \n",
      "    This can be controlled with the ``min_count`` parameter. For example, if\n",
      "    you'd like the sum of an empty series to be NaN, pass ``min_count=1``.\n",
      "    \n",
      "    >>> pd.Series([]).sum(min_count=1)\n",
      "    nan\n",
      "    \n",
      "    Thanks to the ``skipna`` parameter, ``min_count`` handles all-NA and\n",
      "    empty series identically.\n",
      "    \n",
      "    >>> pd.Series([np.nan]).sum()\n",
      "    0.0\n",
      "    \n",
      "    >>> pd.Series([np.nan]).sum(min_count=1)\n",
      "    nan\n",
      "\n"
     ]
    }
   ],
   "source": [
    "# Notice that by default it seems like the sum function ignores missing values.\n",
    "help(df['interest_paid'].sum)"
   ],
   "metadata": {
    "collapsed": false,
    "pycharm": {
     "name": "#%%\n"
    }
   }
  },
  {
   "cell_type": "code",
   "execution_count": 60,
   "outputs": [
    {
     "name": "stdout",
     "output_type": "stream",
     "text": [
      "<class 'pandas.core.frame.DataFrame'>\n",
      "Int64Index: 120 entries, 0 to 119\n",
      "Data columns (total 7 columns):\n",
      " #   Column            Non-Null Count  Dtype  \n",
      "---  ------            --------------  -----  \n",
      " 0   month             120 non-null    int64  \n",
      " 1   starting_balance  120 non-null    float64\n",
      " 2   interest_paid     119 non-null    float64\n",
      " 3   principal_paid    120 non-null    float64\n",
      " 4   new_balance       120 non-null    float64\n",
      " 5   interest_rate     120 non-null    float64\n",
      " 6   car_type          120 non-null    object \n",
      "dtypes: float64(5), int64(1), object(1)\n",
      "memory usage: 7.5+ KB\n"
     ]
    }
   ],
   "source": [
    "# The info method gives the column datatypes + number of non-null values\n",
    "df.info()"
   ],
   "metadata": {
    "collapsed": false,
    "pycharm": {
     "name": "#%%\n"
    }
   }
  },
  {
   "cell_type": "code",
   "execution_count": 61,
   "outputs": [
    {
     "data": {
      "text/plain": "            month  starting_balance  interest_paid  principal_paid  \\\ncount  120.000000        120.000000     119.000000      120.000000   \nmean    30.500000      18397.450167      81.581092      578.171750   \nstd     17.390715      10029.255053      54.284675       46.553384   \nmin      1.000000        630.230000       1.880000      484.300000   \n25%     15.750000       9860.202500      38.690000      543.940000   \n50%     30.500000      18778.295000      72.900000      576.725000   \n75%     45.250000      27125.887500     111.995000      611.677500   \nmax     60.000000      34689.960000     202.930000      683.240000   \n\n        new_balance  interest_rate  \ncount    120.000000     120.000000  \nmean   17819.278417       0.053050  \nstd    10073.545079       0.017222  \nmin       -0.360000       0.035900  \n25%     9250.567500       0.035900  \n50%    18201.570000       0.053050  \n75%    26591.405000       0.070200  \nmax    34205.660000       0.070200  ",
      "text/html": "<div>\n<style scoped>\n    .dataframe tbody tr th:only-of-type {\n        vertical-align: middle;\n    }\n\n    .dataframe tbody tr th {\n        vertical-align: top;\n    }\n\n    .dataframe thead th {\n        text-align: right;\n    }\n</style>\n<table border=\"1\" class=\"dataframe\">\n  <thead>\n    <tr style=\"text-align: right;\">\n      <th></th>\n      <th>month</th>\n      <th>starting_balance</th>\n      <th>interest_paid</th>\n      <th>principal_paid</th>\n      <th>new_balance</th>\n      <th>interest_rate</th>\n    </tr>\n  </thead>\n  <tbody>\n    <tr>\n      <th>count</th>\n      <td>120.000000</td>\n      <td>120.000000</td>\n      <td>119.000000</td>\n      <td>120.000000</td>\n      <td>120.000000</td>\n      <td>120.000000</td>\n    </tr>\n    <tr>\n      <th>mean</th>\n      <td>30.500000</td>\n      <td>18397.450167</td>\n      <td>81.581092</td>\n      <td>578.171750</td>\n      <td>17819.278417</td>\n      <td>0.053050</td>\n    </tr>\n    <tr>\n      <th>std</th>\n      <td>17.390715</td>\n      <td>10029.255053</td>\n      <td>54.284675</td>\n      <td>46.553384</td>\n      <td>10073.545079</td>\n      <td>0.017222</td>\n    </tr>\n    <tr>\n      <th>min</th>\n      <td>1.000000</td>\n      <td>630.230000</td>\n      <td>1.880000</td>\n      <td>484.300000</td>\n      <td>-0.360000</td>\n      <td>0.035900</td>\n    </tr>\n    <tr>\n      <th>25%</th>\n      <td>15.750000</td>\n      <td>9860.202500</td>\n      <td>38.690000</td>\n      <td>543.940000</td>\n      <td>9250.567500</td>\n      <td>0.035900</td>\n    </tr>\n    <tr>\n      <th>50%</th>\n      <td>30.500000</td>\n      <td>18778.295000</td>\n      <td>72.900000</td>\n      <td>576.725000</td>\n      <td>18201.570000</td>\n      <td>0.053050</td>\n    </tr>\n    <tr>\n      <th>75%</th>\n      <td>45.250000</td>\n      <td>27125.887500</td>\n      <td>111.995000</td>\n      <td>611.677500</td>\n      <td>26591.405000</td>\n      <td>0.070200</td>\n    </tr>\n    <tr>\n      <th>max</th>\n      <td>60.000000</td>\n      <td>34689.960000</td>\n      <td>202.930000</td>\n      <td>683.240000</td>\n      <td>34205.660000</td>\n      <td>0.070200</td>\n    </tr>\n  </tbody>\n</table>\n</div>"
     },
     "execution_count": 61,
     "metadata": {},
     "output_type": "execute_result"
    }
   ],
   "source": [
    "# Pandas describe() is used to view some basic statistical details\n",
    "df.describe()"
   ],
   "metadata": {
    "collapsed": false,
    "pycharm": {
     "name": "#%%\n"
    }
   }
  },
  {
   "cell_type": "markdown",
   "source": [
    "## **Identifying missing data**"
   ],
   "metadata": {
    "collapsed": false
   }
  },
  {
   "cell_type": "markdown",
   "source": [
    "When working with a dataset you will often run into missing values. Before you can graph data, you need to be sure there are no missing values."
   ],
   "metadata": {
    "collapsed": false
   }
  },
  {
   "cell_type": "markdown",
   "source": [
    "### Identifying missing data\n",
    "\n",
    "Values will be originally missing from a dataset or be a product of data manipulation. In pandas, missing values are typically called `NaN` or `None`.\n",
    "\n",
    "Missing data can be:\n",
    "- Hint at data collection errors.\n",
    "- Indicate improper conversion or manipulation.\n",
    "- Actually not be considered missing. For some datasets, missing data can be listed as \"zero\", \"false\", \"not applicable\", \"entered an empty string\", among other possibilities."
   ],
   "metadata": {
    "collapsed": false
   }
  },
  {
   "cell_type": "markdown",
   "source": [
    "### Finding missing values"
   ],
   "metadata": {
    "collapsed": false
   }
  },
  {
   "cell_type": "code",
   "execution_count": 62,
   "outputs": [
    {
     "name": "stdout",
     "output_type": "stream",
     "text": [
      "<class 'pandas.core.frame.DataFrame'>\n",
      "Int64Index: 120 entries, 0 to 119\n",
      "Data columns (total 7 columns):\n",
      " #   Column            Non-Null Count  Dtype  \n",
      "---  ------            --------------  -----  \n",
      " 0   month             120 non-null    int64  \n",
      " 1   starting_balance  120 non-null    float64\n",
      " 2   interest_paid     119 non-null    float64\n",
      " 3   principal_paid    120 non-null    float64\n",
      " 4   new_balance       120 non-null    float64\n",
      " 5   interest_rate     120 non-null    float64\n",
      " 6   car_type          120 non-null    object \n",
      "dtypes: float64(5), int64(1), object(1)\n",
      "memory usage: 7.5+ KB\n"
     ]
    }
   ],
   "source": [
    "df.info()"
   ],
   "metadata": {
    "collapsed": false,
    "pycharm": {
     "name": "#%%\n"
    }
   }
  },
  {
   "cell_type": "markdown",
   "source": [
    "Two common methods to indicate where values in a DataFrame are missing are `isna` and `isnull`."
   ],
   "metadata": {
    "collapsed": false
   }
  },
  {
   "cell_type": "code",
   "execution_count": 63,
   "outputs": [
    {
     "data": {
      "text/plain": "0    False\n1    False\n2    False\n3    False\n4    False\nName: interest_paid, dtype: bool"
     },
     "execution_count": 63,
     "metadata": {},
     "output_type": "execute_result"
    }
   ],
   "source": [
    "# Notice we have a Pandas Series of True and False values\n",
    "df['interest_paid'].isna().head()"
   ],
   "metadata": {
    "collapsed": false,
    "pycharm": {
     "name": "#%%\n"
    }
   }
  },
  {
   "cell_type": "code",
   "execution_count": 64,
   "outputs": [
    {
     "data": {
      "text/plain": "1"
     },
     "execution_count": 64,
     "metadata": {},
     "output_type": "execute_result"
    }
   ],
   "source": [
    "# Number of missing values\n",
    "df['interest_paid'].isna().sum()"
   ],
   "metadata": {
    "collapsed": false,
    "pycharm": {
     "name": "#%%\n"
    }
   }
  },
  {
   "cell_type": "code",
   "execution_count": 65,
   "outputs": [
    {
     "data": {
      "text/plain": "    month  starting_balance  interest_paid  principal_paid  new_balance  \\\n35     36          15940.06            NaN          593.99     15346.07   \n\n    interest_rate       car_type  \n35         0.0702  Toyota Sienna  ",
      "text/html": "<div>\n<style scoped>\n    .dataframe tbody tr th:only-of-type {\n        vertical-align: middle;\n    }\n\n    .dataframe tbody tr th {\n        vertical-align: top;\n    }\n\n    .dataframe thead th {\n        text-align: right;\n    }\n</style>\n<table border=\"1\" class=\"dataframe\">\n  <thead>\n    <tr style=\"text-align: right;\">\n      <th></th>\n      <th>month</th>\n      <th>starting_balance</th>\n      <th>interest_paid</th>\n      <th>principal_paid</th>\n      <th>new_balance</th>\n      <th>interest_rate</th>\n      <th>car_type</th>\n    </tr>\n  </thead>\n  <tbody>\n    <tr>\n      <th>35</th>\n      <td>36</td>\n      <td>15940.06</td>\n      <td>NaN</td>\n      <td>593.99</td>\n      <td>15346.07</td>\n      <td>0.0702</td>\n      <td>Toyota Sienna</td>\n    </tr>\n  </tbody>\n</table>\n</div>"
     },
     "execution_count": 65,
     "metadata": {},
     "output_type": "execute_result"
    }
   ],
   "source": [
    "# Looks at the row that contains the NaN for interested_paid\n",
    "df.loc[df['interest_paid'].isna(), :]"
   ],
   "metadata": {
    "collapsed": false,
    "pycharm": {
     "name": "#%%\n"
    }
   }
  },
  {
   "cell_type": "code",
   "execution_count": 66,
   "outputs": [
    {
     "data": {
      "text/plain": "   month  starting_balance  interest_paid  principal_paid  new_balance  \\\n0      1          34689.96         202.93          484.30     34205.66   \n1      2          34205.66         200.10          487.13     33718.53   \n2      3          33718.53         197.25          489.98     33228.55   \n3      4          33228.55         194.38          492.85     32735.70   \n4      5          32735.70         191.50          495.73     32239.97   \n\n   interest_rate       car_type  \n0         0.0702  Toyota Sienna  \n1         0.0702  Toyota Sienna  \n2         0.0702  Toyota Sienna  \n3         0.0702  Toyota Sienna  \n4         0.0702  Toyota Sienna  ",
      "text/html": "<div>\n<style scoped>\n    .dataframe tbody tr th:only-of-type {\n        vertical-align: middle;\n    }\n\n    .dataframe tbody tr th {\n        vertical-align: top;\n    }\n\n    .dataframe thead th {\n        text-align: right;\n    }\n</style>\n<table border=\"1\" class=\"dataframe\">\n  <thead>\n    <tr style=\"text-align: right;\">\n      <th></th>\n      <th>month</th>\n      <th>starting_balance</th>\n      <th>interest_paid</th>\n      <th>principal_paid</th>\n      <th>new_balance</th>\n      <th>interest_rate</th>\n      <th>car_type</th>\n    </tr>\n  </thead>\n  <tbody>\n    <tr>\n      <th>0</th>\n      <td>1</td>\n      <td>34689.96</td>\n      <td>202.93</td>\n      <td>484.30</td>\n      <td>34205.66</td>\n      <td>0.0702</td>\n      <td>Toyota Sienna</td>\n    </tr>\n    <tr>\n      <th>1</th>\n      <td>2</td>\n      <td>34205.66</td>\n      <td>200.10</td>\n      <td>487.13</td>\n      <td>33718.53</td>\n      <td>0.0702</td>\n      <td>Toyota Sienna</td>\n    </tr>\n    <tr>\n      <th>2</th>\n      <td>3</td>\n      <td>33718.53</td>\n      <td>197.25</td>\n      <td>489.98</td>\n      <td>33228.55</td>\n      <td>0.0702</td>\n      <td>Toyota Sienna</td>\n    </tr>\n    <tr>\n      <th>3</th>\n      <td>4</td>\n      <td>33228.55</td>\n      <td>194.38</td>\n      <td>492.85</td>\n      <td>32735.70</td>\n      <td>0.0702</td>\n      <td>Toyota Sienna</td>\n    </tr>\n    <tr>\n      <th>4</th>\n      <td>5</td>\n      <td>32735.70</td>\n      <td>191.50</td>\n      <td>495.73</td>\n      <td>32239.97</td>\n      <td>0.0702</td>\n      <td>Toyota Sienna</td>\n    </tr>\n  </tbody>\n</table>\n</div>"
     },
     "execution_count": 66,
     "metadata": {},
     "output_type": "execute_result"
    }
   ],
   "source": [
    "# Keep in mind that we can use the not operator (~) to negate the filter every row that doesn't have a nan is returned.\n",
    "df.loc[~df['interest_paid'].isna(), :].head()"
   ],
   "metadata": {
    "collapsed": false,
    "pycharm": {
     "name": "#%%\n"
    }
   }
  },
  {
   "cell_type": "markdown",
   "source": [
    "## **Remove of Fill Missing Data**"
   ],
   "metadata": {
    "collapsed": false
   }
  },
  {
   "cell_type": "markdown",
   "source": [
    "This is an important subject as before you can graph data, you should make sure you aren't trying to graph some missing values as that can cause an error or misinterpretation of the data."
   ],
   "metadata": {
    "collapsed": false
   }
  },
  {
   "cell_type": "code",
   "execution_count": 67,
   "outputs": [
    {
     "name": "stdout",
     "output_type": "stream",
     "text": [
      "<class 'pandas.core.frame.DataFrame'>\n",
      "Int64Index: 120 entries, 0 to 119\n",
      "Data columns (total 7 columns):\n",
      " #   Column            Non-Null Count  Dtype  \n",
      "---  ------            --------------  -----  \n",
      " 0   month             120 non-null    int64  \n",
      " 1   starting_balance  120 non-null    float64\n",
      " 2   interest_paid     119 non-null    float64\n",
      " 3   principal_paid    120 non-null    float64\n",
      " 4   new_balance       120 non-null    float64\n",
      " 5   interest_rate     120 non-null    float64\n",
      " 6   car_type          120 non-null    object \n",
      "dtypes: float64(5), int64(1), object(1)\n",
      "memory usage: 7.5+ KB\n"
     ]
    }
   ],
   "source": [
    "df.info()"
   ],
   "metadata": {
    "collapsed": false,
    "pycharm": {
     "name": "#%%\n"
    }
   }
  },
  {
   "cell_type": "markdown",
   "source": [
    "### Remove Missing Values\n",
    "You can remove missing values by using `dropna` method."
   ],
   "metadata": {
    "collapsed": false
   }
  },
  {
   "cell_type": "code",
   "execution_count": 68,
   "outputs": [
    {
     "data": {
      "text/plain": "    month  starting_balance  interest_paid  principal_paid  new_balance  \\\n30     31          18858.57         110.32          576.91     18281.66   \n31     32          18281.66         106.94          580.29     17701.37   \n32     33          17701.37         103.55          583.68     17117.69   \n33     34          17117.69         100.13          587.10     16530.59   \n34     35          16530.59          96.70          590.53     15940.06   \n36     37          15346.07          89.77          597.46     14748.61   \n37     38          14748.61          86.27          600.96     14147.65   \n38     39          14147.65          82.76          604.47     13543.18   \n39     40          13543.18          79.22          608.01     12935.17   \n\n    interest_rate       car_type  \n30         0.0702  Toyota Sienna  \n31         0.0702  Toyota Sienna  \n32         0.0702  Toyota Sienna  \n33         0.0702  Toyota Sienna  \n34         0.0702  Toyota Sienna  \n36         0.0702  Toyota Sienna  \n37         0.0702  Toyota Sienna  \n38         0.0702  Toyota Sienna  \n39         0.0702  Toyota Sienna  ",
      "text/html": "<div>\n<style scoped>\n    .dataframe tbody tr th:only-of-type {\n        vertical-align: middle;\n    }\n\n    .dataframe tbody tr th {\n        vertical-align: top;\n    }\n\n    .dataframe thead th {\n        text-align: right;\n    }\n</style>\n<table border=\"1\" class=\"dataframe\">\n  <thead>\n    <tr style=\"text-align: right;\">\n      <th></th>\n      <th>month</th>\n      <th>starting_balance</th>\n      <th>interest_paid</th>\n      <th>principal_paid</th>\n      <th>new_balance</th>\n      <th>interest_rate</th>\n      <th>car_type</th>\n    </tr>\n  </thead>\n  <tbody>\n    <tr>\n      <th>30</th>\n      <td>31</td>\n      <td>18858.57</td>\n      <td>110.32</td>\n      <td>576.91</td>\n      <td>18281.66</td>\n      <td>0.0702</td>\n      <td>Toyota Sienna</td>\n    </tr>\n    <tr>\n      <th>31</th>\n      <td>32</td>\n      <td>18281.66</td>\n      <td>106.94</td>\n      <td>580.29</td>\n      <td>17701.37</td>\n      <td>0.0702</td>\n      <td>Toyota Sienna</td>\n    </tr>\n    <tr>\n      <th>32</th>\n      <td>33</td>\n      <td>17701.37</td>\n      <td>103.55</td>\n      <td>583.68</td>\n      <td>17117.69</td>\n      <td>0.0702</td>\n      <td>Toyota Sienna</td>\n    </tr>\n    <tr>\n      <th>33</th>\n      <td>34</td>\n      <td>17117.69</td>\n      <td>100.13</td>\n      <td>587.10</td>\n      <td>16530.59</td>\n      <td>0.0702</td>\n      <td>Toyota Sienna</td>\n    </tr>\n    <tr>\n      <th>34</th>\n      <td>35</td>\n      <td>16530.59</td>\n      <td>96.70</td>\n      <td>590.53</td>\n      <td>15940.06</td>\n      <td>0.0702</td>\n      <td>Toyota Sienna</td>\n    </tr>\n    <tr>\n      <th>36</th>\n      <td>37</td>\n      <td>15346.07</td>\n      <td>89.77</td>\n      <td>597.46</td>\n      <td>14748.61</td>\n      <td>0.0702</td>\n      <td>Toyota Sienna</td>\n    </tr>\n    <tr>\n      <th>37</th>\n      <td>38</td>\n      <td>14748.61</td>\n      <td>86.27</td>\n      <td>600.96</td>\n      <td>14147.65</td>\n      <td>0.0702</td>\n      <td>Toyota Sienna</td>\n    </tr>\n    <tr>\n      <th>38</th>\n      <td>39</td>\n      <td>14147.65</td>\n      <td>82.76</td>\n      <td>604.47</td>\n      <td>13543.18</td>\n      <td>0.0702</td>\n      <td>Toyota Sienna</td>\n    </tr>\n    <tr>\n      <th>39</th>\n      <td>40</td>\n      <td>13543.18</td>\n      <td>79.22</td>\n      <td>608.01</td>\n      <td>12935.17</td>\n      <td>0.0702</td>\n      <td>Toyota Sienna</td>\n    </tr>\n  </tbody>\n</table>\n</div>"
     },
     "execution_count": 68,
     "metadata": {},
     "output_type": "execute_result"
    }
   ],
   "source": [
    "# You can drop entire rows if they contain 'any' nans in them or 'all'\n",
    "# this may not be the best strategy for our dataset\n",
    "df[30:40].dropna(how = 'any')"
   ],
   "metadata": {
    "collapsed": false,
    "pycharm": {
     "name": "#%%\n"
    }
   }
  },
  {
   "cell_type": "markdown",
   "source": [
    "### Filling in missing values\n",
    "There are a variety of ways to fill in missing values."
   ],
   "metadata": {
    "collapsed": false
   }
  },
  {
   "cell_type": "code",
   "execution_count": 69,
   "outputs": [
    {
     "data": {
      "text/plain": "30    110.32\n31    106.94\n32    103.55\n33    100.13\n34     96.70\n35       NaN\n36     89.77\n37     86.27\n38     82.76\n39     79.22\nName: interest_paid, dtype: float64"
     },
     "execution_count": 69,
     "metadata": {},
     "output_type": "execute_result"
    }
   ],
   "source": [
    "# Looking at where missing data is located\n",
    "df['interest_paid'][30:40]"
   ],
   "metadata": {
    "collapsed": false,
    "pycharm": {
     "name": "#%%\n"
    }
   }
  },
  {
   "cell_type": "code",
   "execution_count": 70,
   "outputs": [
    {
     "data": {
      "text/plain": "30    110.32\n31    106.94\n32    103.55\n33    100.13\n34     96.70\n35      0.00\n36     89.77\n37     86.27\n38     82.76\n39     79.22\nName: interest_paid, dtype: float64"
     },
     "execution_count": 70,
     "metadata": {},
     "output_type": "execute_result"
    }
   ],
   "source": [
    "# Filling in the nan with a zero is probably a bad idea.\n",
    "df['interest_paid'][30:40].fillna(0)"
   ],
   "metadata": {
    "collapsed": false,
    "pycharm": {
     "name": "#%%\n"
    }
   }
  },
  {
   "cell_type": "code",
   "execution_count": 71,
   "outputs": [
    {
     "data": {
      "text/plain": "30    110.32\n31    106.94\n32    103.55\n33    100.13\n34     96.70\n35     89.77\n36     89.77\n37     86.27\n38     82.76\n39     79.22\nName: interest_paid, dtype: float64"
     },
     "execution_count": 71,
     "metadata": {},
     "output_type": "execute_result"
    }
   ],
   "source": [
    "# back fill in value\n",
    "df['interest_paid'][30:40].fillna(method='bfill')"
   ],
   "metadata": {
    "collapsed": false,
    "pycharm": {
     "name": "#%%\n"
    }
   }
  },
  {
   "cell_type": "code",
   "execution_count": 72,
   "outputs": [
    {
     "data": {
      "text/plain": "30    110.32\n31    106.94\n32    103.55\n33    100.13\n34     96.70\n35     96.70\n36     89.77\n37     86.27\n38     82.76\n39     79.22\nName: interest_paid, dtype: float64"
     },
     "execution_count": 72,
     "metadata": {},
     "output_type": "execute_result"
    }
   ],
   "source": [
    "# forward fill in value\n",
    "df['interest_paid'][30:40].fillna(method='ffill')"
   ],
   "metadata": {
    "collapsed": false,
    "pycharm": {
     "name": "#%%\n"
    }
   }
  },
  {
   "cell_type": "code",
   "execution_count": 73,
   "outputs": [
    {
     "data": {
      "text/plain": "30    110.320\n31    106.940\n32    103.550\n33    100.130\n34     96.700\n35     93.235\n36     89.770\n37     86.270\n38     82.760\n39     79.220\nName: interest_paid, dtype: float64"
     },
     "execution_count": 73,
     "metadata": {},
     "output_type": "execute_result"
    }
   ],
   "source": [
    "# linear interpolation (filling in of values)\n",
    "df['interest_paid'][30:40].interpolate(method='linear')"
   ],
   "metadata": {
    "collapsed": false,
    "pycharm": {
     "name": "#%%\n"
    }
   }
  },
  {
   "cell_type": "code",
   "execution_count": 74,
   "outputs": [
    {
     "data": {
      "text/plain": "9708.15"
     },
     "execution_count": 74,
     "metadata": {},
     "output_type": "execute_result"
    }
   ],
   "source": [
    "# Interest paid before filling in the nan with a value\n",
    "df['interest_paid'].sum()"
   ],
   "metadata": {
    "collapsed": false,
    "pycharm": {
     "name": "#%%\n"
    }
   }
  },
  {
   "cell_type": "code",
   "execution_count": 75,
   "outputs": [],
   "source": [
    "# Fill in with the actual value\n",
    "interest_missing = df['interest_paid'].isna()\n",
    "df.loc[interest_missing, 'interest_paid'] = 93.24"
   ],
   "metadata": {
    "collapsed": false,
    "pycharm": {
     "name": "#%%\n"
    }
   }
  },
  {
   "cell_type": "code",
   "execution_count": 76,
   "outputs": [
    {
     "data": {
      "text/plain": "9801.39"
     },
     "execution_count": 76,
     "metadata": {},
     "output_type": "execute_result"
    }
   ],
   "source": [
    "# Interest paid after filling in the nan with a value\n",
    "df['interest_paid'].sum()"
   ],
   "metadata": {
    "collapsed": false,
    "pycharm": {
     "name": "#%%\n"
    }
   }
  },
  {
   "cell_type": "code",
   "execution_count": 77,
   "outputs": [
    {
     "name": "stdout",
     "output_type": "stream",
     "text": [
      "<class 'pandas.core.frame.DataFrame'>\n",
      "Int64Index: 120 entries, 0 to 119\n",
      "Data columns (total 7 columns):\n",
      " #   Column            Non-Null Count  Dtype  \n",
      "---  ------            --------------  -----  \n",
      " 0   month             120 non-null    int64  \n",
      " 1   starting_balance  120 non-null    float64\n",
      " 2   interest_paid     120 non-null    float64\n",
      " 3   principal_paid    120 non-null    float64\n",
      " 4   new_balance       120 non-null    float64\n",
      " 5   interest_rate     120 non-null    float64\n",
      " 6   car_type          120 non-null    object \n",
      "dtypes: float64(5), int64(1), object(1)\n",
      "memory usage: 7.5+ KB\n"
     ]
    }
   ],
   "source": [
    "# Notice we don't have NaN values in the DataFrame anymore\n",
    "df.info(0)"
   ],
   "metadata": {
    "collapsed": false,
    "pycharm": {
     "name": "#%%\n"
    }
   }
  },
  {
   "cell_type": "markdown",
   "source": [
    "## **Converting DataFrames**"
   ],
   "metadata": {
    "collapsed": false
   }
  },
  {
   "cell_type": "markdown",
   "source": [
    "Certain libraries prefer NumPy arrays or dictionaries as inputs to their methods."
   ],
   "metadata": {
    "collapsed": false
   }
  },
  {
   "cell_type": "code",
   "execution_count": 78,
   "outputs": [
    {
     "data": {
      "text/plain": "   month  starting_balance  interest_paid  principal_paid  new_balance  \\\n0      1          34689.96         202.93          484.30     34205.66   \n1      2          34205.66         200.10          487.13     33718.53   \n2      3          33718.53         197.25          489.98     33228.55   \n3      4          33228.55         194.38          492.85     32735.70   \n4      5          32735.70         191.50          495.73     32239.97   \n\n   interest_rate       car_type  \n0         0.0702  Toyota Sienna  \n1         0.0702  Toyota Sienna  \n2         0.0702  Toyota Sienna  \n3         0.0702  Toyota Sienna  \n4         0.0702  Toyota Sienna  ",
      "text/html": "<div>\n<style scoped>\n    .dataframe tbody tr th:only-of-type {\n        vertical-align: middle;\n    }\n\n    .dataframe tbody tr th {\n        vertical-align: top;\n    }\n\n    .dataframe thead th {\n        text-align: right;\n    }\n</style>\n<table border=\"1\" class=\"dataframe\">\n  <thead>\n    <tr style=\"text-align: right;\">\n      <th></th>\n      <th>month</th>\n      <th>starting_balance</th>\n      <th>interest_paid</th>\n      <th>principal_paid</th>\n      <th>new_balance</th>\n      <th>interest_rate</th>\n      <th>car_type</th>\n    </tr>\n  </thead>\n  <tbody>\n    <tr>\n      <th>0</th>\n      <td>1</td>\n      <td>34689.96</td>\n      <td>202.93</td>\n      <td>484.30</td>\n      <td>34205.66</td>\n      <td>0.0702</td>\n      <td>Toyota Sienna</td>\n    </tr>\n    <tr>\n      <th>1</th>\n      <td>2</td>\n      <td>34205.66</td>\n      <td>200.10</td>\n      <td>487.13</td>\n      <td>33718.53</td>\n      <td>0.0702</td>\n      <td>Toyota Sienna</td>\n    </tr>\n    <tr>\n      <th>2</th>\n      <td>3</td>\n      <td>33718.53</td>\n      <td>197.25</td>\n      <td>489.98</td>\n      <td>33228.55</td>\n      <td>0.0702</td>\n      <td>Toyota Sienna</td>\n    </tr>\n    <tr>\n      <th>3</th>\n      <td>4</td>\n      <td>33228.55</td>\n      <td>194.38</td>\n      <td>492.85</td>\n      <td>32735.70</td>\n      <td>0.0702</td>\n      <td>Toyota Sienna</td>\n    </tr>\n    <tr>\n      <th>4</th>\n      <td>5</td>\n      <td>32735.70</td>\n      <td>191.50</td>\n      <td>495.73</td>\n      <td>32239.97</td>\n      <td>0.0702</td>\n      <td>Toyota Sienna</td>\n    </tr>\n  </tbody>\n</table>\n</div>"
     },
     "execution_count": 78,
     "metadata": {},
     "output_type": "execute_result"
    }
   ],
   "source": [
    "df.head()"
   ],
   "metadata": {
    "collapsed": false,
    "pycharm": {
     "name": "#%%\n"
    }
   }
  },
  {
   "cell_type": "markdown",
   "source": [
    "### Convert Pandas DataFrames to NumPy Arrays"
   ],
   "metadata": {
    "collapsed": false
   }
  },
  {
   "cell_type": "code",
   "execution_count": 79,
   "outputs": [
    {
     "data": {
      "text/plain": "array([[1, 34689.96, 202.93, 484.3, 34205.66, 0.0702, 'Toyota Sienna'],\n       [2, 34205.66, 200.1, 487.13, 33718.53, 0.0702, 'Toyota Sienna'],\n       [3, 33718.53, 197.25, 489.98, 33228.55, 0.0702, 'Toyota Sienna'],\n       [4, 33228.55, 194.38, 492.85, 32735.7, 0.0702, 'Toyota Sienna'],\n       [5, 32735.7, 191.5, 495.73, 32239.97, 0.0702, 'Toyota Sienna'],\n       [6, 32239.97, 188.6, 498.63, 31741.34, 0.0702, 'Toyota Sienna'],\n       [7, 31741.34, 185.68, 501.55, 31239.79, 0.0702, 'Toyota Sienna'],\n       [8, 31239.79, 182.75, 504.48, 30735.31, 0.0702, 'Toyota Sienna'],\n       [9, 30735.31, 179.8, 507.43, 30227.88, 0.0702, 'Toyota Sienna'],\n       [10, 30227.88, 176.83, 510.4, 29717.48, 0.0702, 'Toyota Sienna'],\n       [11, 29717.48, 173.84, 513.39, 29204.09, 0.0702, 'Toyota Sienna'],\n       [12, 29204.09, 170.84, 516.39, 28687.7, 0.0702, 'Toyota Sienna'],\n       [13, 28687.7, 167.82, 519.41, 28168.29, 0.0702, 'Toyota Sienna'],\n       [14, 28168.29, 164.78, 522.45, 27645.84, 0.0702, 'Toyota Sienna'],\n       [15, 27645.84, 161.72, 525.51, 27120.33, 0.0702, 'Toyota Sienna'],\n       [16, 27120.33, 158.65, 528.58, 26591.75, 0.0702, 'Toyota Sienna'],\n       [17, 26591.75, 155.56, 531.67, 26060.08, 0.0702, 'Toyota Sienna'],\n       [18, 26060.08, 152.45, 534.78, 25525.3, 0.0702, 'Toyota Sienna'],\n       [19, 25525.3, 149.32, 537.91, 24987.39, 0.0702, 'Toyota Sienna'],\n       [20, 24987.39, 146.17, 541.06, 24446.33, 0.0702, 'Toyota Sienna'],\n       [21, 24446.33, 143.01, 544.22, 23902.11, 0.0702, 'Toyota Sienna'],\n       [22, 23902.11, 139.82, 547.41, 23354.7, 0.0702, 'Toyota Sienna'],\n       [23, 23354.7, 136.62, 550.61, 22804.09, 0.0702, 'Toyota Sienna'],\n       [24, 22804.09, 133.4, 553.83, 22250.26, 0.0702, 'Toyota Sienna'],\n       [25, 22250.26, 130.16, 557.07, 21693.19, 0.0702, 'Toyota Sienna'],\n       [26, 21693.19, 126.9, 560.33, 21132.86, 0.0702, 'Toyota Sienna'],\n       [27, 21132.86, 123.62, 563.61, 20569.25, 0.0702, 'Toyota Sienna'],\n       [28, 20569.25, 120.33, 566.9, 20002.35, 0.0702, 'Toyota Sienna'],\n       [29, 20002.35, 117.01, 570.22, 19432.13, 0.0702, 'Toyota Sienna'],\n       [30, 19432.13, 113.67, 573.56, 18858.57, 0.0702, 'Toyota Sienna'],\n       [31, 18858.57, 110.32, 576.91, 18281.66, 0.0702, 'Toyota Sienna'],\n       [32, 18281.66, 106.94, 580.29, 17701.37, 0.0702, 'Toyota Sienna'],\n       [33, 17701.37, 103.55, 583.68, 17117.69, 0.0702, 'Toyota Sienna'],\n       [34, 17117.69, 100.13, 587.1, 16530.59, 0.0702, 'Toyota Sienna'],\n       [35, 16530.59, 96.7, 590.53, 15940.06, 0.0702, 'Toyota Sienna'],\n       [36, 15940.06, 93.24, 593.99, 15346.07, 0.0702, 'Toyota Sienna'],\n       [37, 15346.07, 89.77, 597.46, 14748.61, 0.0702, 'Toyota Sienna'],\n       [38, 14748.61, 86.27, 600.96, 14147.65, 0.0702, 'Toyota Sienna'],\n       [39, 14147.65, 82.76, 604.47, 13543.18, 0.0702, 'Toyota Sienna'],\n       [40, 13543.18, 79.22, 608.01, 12935.17, 0.0702, 'Toyota Sienna'],\n       [41, 12935.17, 75.67, 611.56, 12323.61, 0.0702, 'Toyota Sienna'],\n       [42, 12323.61, 72.09, 615.14, 11708.47, 0.0702, 'Toyota Sienna'],\n       [43, 11708.47, 68.49, 618.74, 11089.73, 0.0702, 'Toyota Sienna'],\n       [44, 11089.73, 64.87, 622.36, 10467.37, 0.0702, 'Toyota Sienna'],\n       [45, 10467.37, 61.23, 626.0, 9841.37, 0.0702, 'Toyota Sienna'],\n       [46, 9841.37, 57.57, 629.66, 9211.71, 0.0702, 'Toyota Sienna'],\n       [47, 9211.71, 53.88, 633.35, 8578.36, 0.0702, 'Toyota Sienna'],\n       [48, 8578.36, 50.18, 637.05, 7941.31, 0.0702, 'Toyota Sienna'],\n       [49, 7941.31, 46.45, 640.78, 7300.53, 0.0702, 'Toyota Sienna'],\n       [50, 7300.53, 42.7, 644.53, 6656.0, 0.0702, 'Toyota Sienna'],\n       [51, 6656.0, 38.93, 648.3, 6007.7, 0.0702, 'Toyota Sienna'],\n       [52, 6007.7, 35.14, 652.09, 5355.61, 0.0702, 'Toyota Sienna'],\n       [53, 5355.61, 31.33, 655.9, 4699.71, 0.0702, 'Toyota Sienna'],\n       [54, 4699.71, 27.49, 659.74, 4039.97, 0.0702, 'Toyota Sienna'],\n       [55, 4039.97, 23.63, 663.6, 3376.37, 0.0702, 'Toyota Sienna'],\n       [56, 3376.37, 19.75, 667.48, 2708.89, 0.0702, 'Toyota Sienna'],\n       [57, 2708.89, 15.84, 671.39, 2037.5, 0.0702, 'Toyota Sienna'],\n       [58, 2037.5, 11.91, 675.32, 1362.18, 0.0702, 'Toyota Sienna'],\n       [59, 1362.18, 7.96, 679.27, 682.91, 0.0702, 'Toyota Sienna'],\n       [60, 682.91, 3.99, 683.24, -0.33, 0.0702, 'Toyota Sienna'],\n       [1, 34689.96, 103.78, 528.69, 34161.27, 0.0359, 'Toyota Sienna'],\n       [2, 34161.27, 102.19, 530.28, 33630.99, 0.0359, 'Toyota Sienna'],\n       [3, 33630.99, 100.61, 531.86, 33099.13, 0.0359, 'Toyota Sienna'],\n       [4, 33099.13, 99.02, 533.45, 32565.68, 0.0359, 'Toyota Sienna'],\n       [5, 32565.68, 97.42, 535.05, 32030.63, 0.0359, 'Toyota Sienna'],\n       [6, 32030.63, 95.82, 536.65, 31493.98, 0.0359, 'Toyota Sienna'],\n       [7, 31493.98, 94.21, 538.26, 30955.72, 0.0359, 'Toyota Sienna'],\n       [8, 30955.72, 92.6, 539.87, 30415.85, 0.0359, 'Toyota Sienna'],\n       [9, 30415.85, 90.99, 541.48, 29874.37, 0.0359, 'Toyota Sienna'],\n       [10, 29874.37, 89.37, 543.1, 29331.27, 0.0359, 'Toyota Sienna'],\n       [11, 29331.27, 87.74, 544.73, 28786.54, 0.0359, 'Toyota Sienna'],\n       [12, 28786.54, 86.11, 546.36, 28240.18, 0.0359, 'Toyota Sienna'],\n       [13, 28240.18, 84.48, 547.99, 27692.19, 0.0359, 'Toyota Sienna'],\n       [14, 27692.19, 82.84, 549.63, 27142.56, 0.0359, 'Toyota Sienna'],\n       [15, 27142.56, 81.2, 551.27, 26591.29, 0.0359, 'Toyota Sienna'],\n       [16, 26591.29, 79.55, 552.92, 26038.37, 0.0359, 'Toyota Sienna'],\n       [17, 26038.37, 77.89, 554.58, 25483.79, 0.0359, 'Toyota Sienna'],\n       [18, 25483.79, 76.23, 556.24, 24927.55, 0.0359, 'Toyota Sienna'],\n       [19, 24927.55, 74.57, 557.9, 24369.65, 0.0359, 'Toyota Sienna'],\n       [20, 24369.65, 72.9, 559.57, 23810.08, 0.0359, 'Toyota Sienna'],\n       [21, 23810.08, 71.23, 561.24, 23248.84, 0.0359, 'Toyota Sienna'],\n       [22, 23248.84, 69.55, 562.92, 22685.92, 0.0359, 'Toyota Sienna'],\n       [23, 22685.92, 67.86, 564.61, 22121.31, 0.0359, 'Toyota Sienna'],\n       [24, 22121.31, 66.17, 566.3, 21555.01, 0.0359, 'Toyota Sienna'],\n       [25, 21555.01, 64.48, 567.99, 20987.02, 0.0359, 'Toyota Sienna'],\n       [26, 20987.02, 62.78, 569.69, 20417.33, 0.0359, 'Toyota Sienna'],\n       [27, 20417.33, 61.08, 571.39, 19845.94, 0.0359, 'Toyota Sienna'],\n       [28, 19845.94, 59.37, 573.1, 19272.84, 0.0359, 'Toyota Sienna'],\n       [29, 19272.84, 57.65, 574.82, 18698.02, 0.0359, 'Toyota Sienna'],\n       [30, 18698.02, 55.93, 576.54, 18121.48, 0.0359, 'Toyota Sienna'],\n       [31, 18121.48, 54.21, 578.26, 17543.22, 0.0359, 'Toyota Sienna'],\n       [32, 17543.22, 52.48, 579.99, 16963.23, 0.0359, 'Toyota Sienna'],\n       [33, 16963.23, 50.74, 581.73, 16381.5, 0.0359, 'Toyota Sienna'],\n       [34, 16381.5, 49.0, 583.47, 15798.03, 0.0359, 'Toyota Sienna'],\n       [35, 15798.03, 47.26, 585.21, 15212.82, 0.0359, 'Toyota Sienna'],\n       [36, 15212.82, 45.51, 586.96, 14625.86, 0.0359, 'Toyota Sienna'],\n       [37, 14625.86, 43.75, 588.72, 14037.14, 0.0359, 'Toyota Sienna'],\n       [38, 14037.14, 41.99, 590.48, 13446.66, 0.0359, 'Toyota Sienna'],\n       [39, 13446.66, 40.22, 592.25, 12854.41, 0.0359, 'Toyota Sienna'],\n       [40, 12854.41, 38.45, 594.02, 12260.39, 0.0359, 'Toyota Sienna'],\n       [41, 12260.39, 36.67, 595.8, 11664.59, 0.0359, 'Toyota Sienna'],\n       [42, 11664.59, 34.89, 597.58, 11067.01, 0.0359, 'Toyota Sienna'],\n       [43, 11067.01, 33.1, 599.37, 10467.64, 0.0359, 'Toyota Sienna'],\n       [44, 10467.64, 31.31, 601.16, 9866.48, 0.0359, 'Toyota Sienna'],\n       [45, 9866.48, 29.51, 602.96, 9263.52, 0.0359, 'Toyota Sienna'],\n       [46, 9263.52, 27.71, 604.76, 8658.76, 0.0359, 'Toyota Sienna'],\n       [47, 8658.76, 25.9, 606.57, 8052.19, 0.0359, 'Toyota Sienna'],\n       [48, 8052.19, 24.08, 608.39, 7443.8, 0.0359, 'Toyota Sienna'],\n       [49, 7443.8, 22.26, 610.21, 6833.59, 0.0359, 'Toyota Sienna'],\n       [50, 6833.59, 20.44, 612.03, 6221.56, 0.0359, 'Toyota Sienna'],\n       [51, 6221.56, 18.61, 613.86, 5607.7, 0.0359, 'Toyota Sienna'],\n       [52, 5607.7, 16.77, 615.7, 4992.0, 0.0359, 'Toyota Sienna'],\n       [53, 4992.0, 14.93, 617.54, 4374.46, 0.0359, 'Toyota Sienna'],\n       [54, 4374.46, 13.08, 619.39, 3755.07, 0.0359, 'Toyota Sienna'],\n       [55, 3755.07, 11.23, 621.24, 3133.83, 0.0359, 'Toyota Sienna'],\n       [56, 3133.83, 9.37, 623.1, 2510.73, 0.0359, 'Toyota Sienna'],\n       [57, 2510.73, 7.51, 624.96, 1885.77, 0.0359, 'Toyota Sienna'],\n       [58, 1885.77, 5.64, 626.83, 1258.94, 0.0359, 'Toyota Sienna'],\n       [59, 1258.94, 3.76, 628.71, 630.23, 0.0359, 'Toyota Sienna'],\n       [60, 630.23, 1.88, 630.59, -0.36, 0.0359, 'Toyota Sienna']],\n      dtype=object)"
     },
     "execution_count": 79,
     "metadata": {},
     "output_type": "execute_result"
    }
   ],
   "source": [
    "# Approach 1\n",
    "df.to_numpy()"
   ],
   "metadata": {
    "collapsed": false,
    "pycharm": {
     "name": "#%%\n"
    }
   }
  },
  {
   "cell_type": "code",
   "execution_count": 80,
   "outputs": [
    {
     "data": {
      "text/plain": "array([[1, 34689.96, 202.93, 484.3, 34205.66, 0.0702, 'Toyota Sienna'],\n       [2, 34205.66, 200.1, 487.13, 33718.53, 0.0702, 'Toyota Sienna'],\n       [3, 33718.53, 197.25, 489.98, 33228.55, 0.0702, 'Toyota Sienna'],\n       [4, 33228.55, 194.38, 492.85, 32735.7, 0.0702, 'Toyota Sienna'],\n       [5, 32735.7, 191.5, 495.73, 32239.97, 0.0702, 'Toyota Sienna'],\n       [6, 32239.97, 188.6, 498.63, 31741.34, 0.0702, 'Toyota Sienna'],\n       [7, 31741.34, 185.68, 501.55, 31239.79, 0.0702, 'Toyota Sienna'],\n       [8, 31239.79, 182.75, 504.48, 30735.31, 0.0702, 'Toyota Sienna'],\n       [9, 30735.31, 179.8, 507.43, 30227.88, 0.0702, 'Toyota Sienna'],\n       [10, 30227.88, 176.83, 510.4, 29717.48, 0.0702, 'Toyota Sienna'],\n       [11, 29717.48, 173.84, 513.39, 29204.09, 0.0702, 'Toyota Sienna'],\n       [12, 29204.09, 170.84, 516.39, 28687.7, 0.0702, 'Toyota Sienna'],\n       [13, 28687.7, 167.82, 519.41, 28168.29, 0.0702, 'Toyota Sienna'],\n       [14, 28168.29, 164.78, 522.45, 27645.84, 0.0702, 'Toyota Sienna'],\n       [15, 27645.84, 161.72, 525.51, 27120.33, 0.0702, 'Toyota Sienna'],\n       [16, 27120.33, 158.65, 528.58, 26591.75, 0.0702, 'Toyota Sienna'],\n       [17, 26591.75, 155.56, 531.67, 26060.08, 0.0702, 'Toyota Sienna'],\n       [18, 26060.08, 152.45, 534.78, 25525.3, 0.0702, 'Toyota Sienna'],\n       [19, 25525.3, 149.32, 537.91, 24987.39, 0.0702, 'Toyota Sienna'],\n       [20, 24987.39, 146.17, 541.06, 24446.33, 0.0702, 'Toyota Sienna'],\n       [21, 24446.33, 143.01, 544.22, 23902.11, 0.0702, 'Toyota Sienna'],\n       [22, 23902.11, 139.82, 547.41, 23354.7, 0.0702, 'Toyota Sienna'],\n       [23, 23354.7, 136.62, 550.61, 22804.09, 0.0702, 'Toyota Sienna'],\n       [24, 22804.09, 133.4, 553.83, 22250.26, 0.0702, 'Toyota Sienna'],\n       [25, 22250.26, 130.16, 557.07, 21693.19, 0.0702, 'Toyota Sienna'],\n       [26, 21693.19, 126.9, 560.33, 21132.86, 0.0702, 'Toyota Sienna'],\n       [27, 21132.86, 123.62, 563.61, 20569.25, 0.0702, 'Toyota Sienna'],\n       [28, 20569.25, 120.33, 566.9, 20002.35, 0.0702, 'Toyota Sienna'],\n       [29, 20002.35, 117.01, 570.22, 19432.13, 0.0702, 'Toyota Sienna'],\n       [30, 19432.13, 113.67, 573.56, 18858.57, 0.0702, 'Toyota Sienna'],\n       [31, 18858.57, 110.32, 576.91, 18281.66, 0.0702, 'Toyota Sienna'],\n       [32, 18281.66, 106.94, 580.29, 17701.37, 0.0702, 'Toyota Sienna'],\n       [33, 17701.37, 103.55, 583.68, 17117.69, 0.0702, 'Toyota Sienna'],\n       [34, 17117.69, 100.13, 587.1, 16530.59, 0.0702, 'Toyota Sienna'],\n       [35, 16530.59, 96.7, 590.53, 15940.06, 0.0702, 'Toyota Sienna'],\n       [36, 15940.06, 93.24, 593.99, 15346.07, 0.0702, 'Toyota Sienna'],\n       [37, 15346.07, 89.77, 597.46, 14748.61, 0.0702, 'Toyota Sienna'],\n       [38, 14748.61, 86.27, 600.96, 14147.65, 0.0702, 'Toyota Sienna'],\n       [39, 14147.65, 82.76, 604.47, 13543.18, 0.0702, 'Toyota Sienna'],\n       [40, 13543.18, 79.22, 608.01, 12935.17, 0.0702, 'Toyota Sienna'],\n       [41, 12935.17, 75.67, 611.56, 12323.61, 0.0702, 'Toyota Sienna'],\n       [42, 12323.61, 72.09, 615.14, 11708.47, 0.0702, 'Toyota Sienna'],\n       [43, 11708.47, 68.49, 618.74, 11089.73, 0.0702, 'Toyota Sienna'],\n       [44, 11089.73, 64.87, 622.36, 10467.37, 0.0702, 'Toyota Sienna'],\n       [45, 10467.37, 61.23, 626.0, 9841.37, 0.0702, 'Toyota Sienna'],\n       [46, 9841.37, 57.57, 629.66, 9211.71, 0.0702, 'Toyota Sienna'],\n       [47, 9211.71, 53.88, 633.35, 8578.36, 0.0702, 'Toyota Sienna'],\n       [48, 8578.36, 50.18, 637.05, 7941.31, 0.0702, 'Toyota Sienna'],\n       [49, 7941.31, 46.45, 640.78, 7300.53, 0.0702, 'Toyota Sienna'],\n       [50, 7300.53, 42.7, 644.53, 6656.0, 0.0702, 'Toyota Sienna'],\n       [51, 6656.0, 38.93, 648.3, 6007.7, 0.0702, 'Toyota Sienna'],\n       [52, 6007.7, 35.14, 652.09, 5355.61, 0.0702, 'Toyota Sienna'],\n       [53, 5355.61, 31.33, 655.9, 4699.71, 0.0702, 'Toyota Sienna'],\n       [54, 4699.71, 27.49, 659.74, 4039.97, 0.0702, 'Toyota Sienna'],\n       [55, 4039.97, 23.63, 663.6, 3376.37, 0.0702, 'Toyota Sienna'],\n       [56, 3376.37, 19.75, 667.48, 2708.89, 0.0702, 'Toyota Sienna'],\n       [57, 2708.89, 15.84, 671.39, 2037.5, 0.0702, 'Toyota Sienna'],\n       [58, 2037.5, 11.91, 675.32, 1362.18, 0.0702, 'Toyota Sienna'],\n       [59, 1362.18, 7.96, 679.27, 682.91, 0.0702, 'Toyota Sienna'],\n       [60, 682.91, 3.99, 683.24, -0.33, 0.0702, 'Toyota Sienna'],\n       [1, 34689.96, 103.78, 528.69, 34161.27, 0.0359, 'Toyota Sienna'],\n       [2, 34161.27, 102.19, 530.28, 33630.99, 0.0359, 'Toyota Sienna'],\n       [3, 33630.99, 100.61, 531.86, 33099.13, 0.0359, 'Toyota Sienna'],\n       [4, 33099.13, 99.02, 533.45, 32565.68, 0.0359, 'Toyota Sienna'],\n       [5, 32565.68, 97.42, 535.05, 32030.63, 0.0359, 'Toyota Sienna'],\n       [6, 32030.63, 95.82, 536.65, 31493.98, 0.0359, 'Toyota Sienna'],\n       [7, 31493.98, 94.21, 538.26, 30955.72, 0.0359, 'Toyota Sienna'],\n       [8, 30955.72, 92.6, 539.87, 30415.85, 0.0359, 'Toyota Sienna'],\n       [9, 30415.85, 90.99, 541.48, 29874.37, 0.0359, 'Toyota Sienna'],\n       [10, 29874.37, 89.37, 543.1, 29331.27, 0.0359, 'Toyota Sienna'],\n       [11, 29331.27, 87.74, 544.73, 28786.54, 0.0359, 'Toyota Sienna'],\n       [12, 28786.54, 86.11, 546.36, 28240.18, 0.0359, 'Toyota Sienna'],\n       [13, 28240.18, 84.48, 547.99, 27692.19, 0.0359, 'Toyota Sienna'],\n       [14, 27692.19, 82.84, 549.63, 27142.56, 0.0359, 'Toyota Sienna'],\n       [15, 27142.56, 81.2, 551.27, 26591.29, 0.0359, 'Toyota Sienna'],\n       [16, 26591.29, 79.55, 552.92, 26038.37, 0.0359, 'Toyota Sienna'],\n       [17, 26038.37, 77.89, 554.58, 25483.79, 0.0359, 'Toyota Sienna'],\n       [18, 25483.79, 76.23, 556.24, 24927.55, 0.0359, 'Toyota Sienna'],\n       [19, 24927.55, 74.57, 557.9, 24369.65, 0.0359, 'Toyota Sienna'],\n       [20, 24369.65, 72.9, 559.57, 23810.08, 0.0359, 'Toyota Sienna'],\n       [21, 23810.08, 71.23, 561.24, 23248.84, 0.0359, 'Toyota Sienna'],\n       [22, 23248.84, 69.55, 562.92, 22685.92, 0.0359, 'Toyota Sienna'],\n       [23, 22685.92, 67.86, 564.61, 22121.31, 0.0359, 'Toyota Sienna'],\n       [24, 22121.31, 66.17, 566.3, 21555.01, 0.0359, 'Toyota Sienna'],\n       [25, 21555.01, 64.48, 567.99, 20987.02, 0.0359, 'Toyota Sienna'],\n       [26, 20987.02, 62.78, 569.69, 20417.33, 0.0359, 'Toyota Sienna'],\n       [27, 20417.33, 61.08, 571.39, 19845.94, 0.0359, 'Toyota Sienna'],\n       [28, 19845.94, 59.37, 573.1, 19272.84, 0.0359, 'Toyota Sienna'],\n       [29, 19272.84, 57.65, 574.82, 18698.02, 0.0359, 'Toyota Sienna'],\n       [30, 18698.02, 55.93, 576.54, 18121.48, 0.0359, 'Toyota Sienna'],\n       [31, 18121.48, 54.21, 578.26, 17543.22, 0.0359, 'Toyota Sienna'],\n       [32, 17543.22, 52.48, 579.99, 16963.23, 0.0359, 'Toyota Sienna'],\n       [33, 16963.23, 50.74, 581.73, 16381.5, 0.0359, 'Toyota Sienna'],\n       [34, 16381.5, 49.0, 583.47, 15798.03, 0.0359, 'Toyota Sienna'],\n       [35, 15798.03, 47.26, 585.21, 15212.82, 0.0359, 'Toyota Sienna'],\n       [36, 15212.82, 45.51, 586.96, 14625.86, 0.0359, 'Toyota Sienna'],\n       [37, 14625.86, 43.75, 588.72, 14037.14, 0.0359, 'Toyota Sienna'],\n       [38, 14037.14, 41.99, 590.48, 13446.66, 0.0359, 'Toyota Sienna'],\n       [39, 13446.66, 40.22, 592.25, 12854.41, 0.0359, 'Toyota Sienna'],\n       [40, 12854.41, 38.45, 594.02, 12260.39, 0.0359, 'Toyota Sienna'],\n       [41, 12260.39, 36.67, 595.8, 11664.59, 0.0359, 'Toyota Sienna'],\n       [42, 11664.59, 34.89, 597.58, 11067.01, 0.0359, 'Toyota Sienna'],\n       [43, 11067.01, 33.1, 599.37, 10467.64, 0.0359, 'Toyota Sienna'],\n       [44, 10467.64, 31.31, 601.16, 9866.48, 0.0359, 'Toyota Sienna'],\n       [45, 9866.48, 29.51, 602.96, 9263.52, 0.0359, 'Toyota Sienna'],\n       [46, 9263.52, 27.71, 604.76, 8658.76, 0.0359, 'Toyota Sienna'],\n       [47, 8658.76, 25.9, 606.57, 8052.19, 0.0359, 'Toyota Sienna'],\n       [48, 8052.19, 24.08, 608.39, 7443.8, 0.0359, 'Toyota Sienna'],\n       [49, 7443.8, 22.26, 610.21, 6833.59, 0.0359, 'Toyota Sienna'],\n       [50, 6833.59, 20.44, 612.03, 6221.56, 0.0359, 'Toyota Sienna'],\n       [51, 6221.56, 18.61, 613.86, 5607.7, 0.0359, 'Toyota Sienna'],\n       [52, 5607.7, 16.77, 615.7, 4992.0, 0.0359, 'Toyota Sienna'],\n       [53, 4992.0, 14.93, 617.54, 4374.46, 0.0359, 'Toyota Sienna'],\n       [54, 4374.46, 13.08, 619.39, 3755.07, 0.0359, 'Toyota Sienna'],\n       [55, 3755.07, 11.23, 621.24, 3133.83, 0.0359, 'Toyota Sienna'],\n       [56, 3133.83, 9.37, 623.1, 2510.73, 0.0359, 'Toyota Sienna'],\n       [57, 2510.73, 7.51, 624.96, 1885.77, 0.0359, 'Toyota Sienna'],\n       [58, 1885.77, 5.64, 626.83, 1258.94, 0.0359, 'Toyota Sienna'],\n       [59, 1258.94, 3.76, 628.71, 630.23, 0.0359, 'Toyota Sienna'],\n       [60, 630.23, 1.88, 630.59, -0.36, 0.0359, 'Toyota Sienna']],\n      dtype=object)"
     },
     "execution_count": 80,
     "metadata": {},
     "output_type": "execute_result"
    }
   ],
   "source": [
    "# Approach 2\n",
    "df.values"
   ],
   "metadata": {
    "collapsed": false,
    "pycharm": {
     "name": "#%%\n"
    }
   }
  },
  {
   "cell_type": "markdown",
   "source": [
    "### Convert Pandas DataFrames to Dictionaries"
   ],
   "metadata": {
    "collapsed": false
   }
  },
  {
   "cell_type": "code",
   "execution_count": 81,
   "outputs": [
    {
     "data": {
      "text/plain": "{'month': {0: 1,\n  1: 2,\n  2: 3,\n  3: 4,\n  4: 5,\n  5: 6,\n  6: 7,\n  7: 8,\n  8: 9,\n  9: 10,\n  10: 11,\n  11: 12,\n  12: 13,\n  13: 14,\n  14: 15,\n  15: 16,\n  16: 17,\n  17: 18,\n  18: 19,\n  19: 20,\n  20: 21,\n  21: 22,\n  22: 23,\n  23: 24,\n  24: 25,\n  25: 26,\n  26: 27,\n  27: 28,\n  28: 29,\n  29: 30,\n  30: 31,\n  31: 32,\n  32: 33,\n  33: 34,\n  34: 35,\n  35: 36,\n  36: 37,\n  37: 38,\n  38: 39,\n  39: 40,\n  40: 41,\n  41: 42,\n  42: 43,\n  43: 44,\n  44: 45,\n  45: 46,\n  46: 47,\n  47: 48,\n  48: 49,\n  49: 50,\n  50: 51,\n  51: 52,\n  52: 53,\n  53: 54,\n  54: 55,\n  55: 56,\n  56: 57,\n  57: 58,\n  58: 59,\n  59: 60,\n  60: 1,\n  61: 2,\n  62: 3,\n  63: 4,\n  64: 5,\n  65: 6,\n  66: 7,\n  67: 8,\n  68: 9,\n  69: 10,\n  70: 11,\n  71: 12,\n  72: 13,\n  73: 14,\n  74: 15,\n  75: 16,\n  76: 17,\n  77: 18,\n  78: 19,\n  79: 20,\n  80: 21,\n  81: 22,\n  82: 23,\n  83: 24,\n  84: 25,\n  85: 26,\n  86: 27,\n  87: 28,\n  88: 29,\n  89: 30,\n  90: 31,\n  91: 32,\n  92: 33,\n  93: 34,\n  94: 35,\n  95: 36,\n  96: 37,\n  97: 38,\n  98: 39,\n  99: 40,\n  100: 41,\n  101: 42,\n  102: 43,\n  103: 44,\n  104: 45,\n  105: 46,\n  106: 47,\n  107: 48,\n  108: 49,\n  109: 50,\n  110: 51,\n  111: 52,\n  112: 53,\n  113: 54,\n  114: 55,\n  115: 56,\n  116: 57,\n  117: 58,\n  118: 59,\n  119: 60},\n 'starting_balance': {0: 34689.96,\n  1: 34205.66,\n  2: 33718.53,\n  3: 33228.55,\n  4: 32735.7,\n  5: 32239.97,\n  6: 31741.34,\n  7: 31239.79,\n  8: 30735.31,\n  9: 30227.88,\n  10: 29717.48,\n  11: 29204.09,\n  12: 28687.7,\n  13: 28168.29,\n  14: 27645.84,\n  15: 27120.33,\n  16: 26591.75,\n  17: 26060.08,\n  18: 25525.3,\n  19: 24987.39,\n  20: 24446.33,\n  21: 23902.11,\n  22: 23354.7,\n  23: 22804.09,\n  24: 22250.26,\n  25: 21693.19,\n  26: 21132.86,\n  27: 20569.25,\n  28: 20002.35,\n  29: 19432.13,\n  30: 18858.57,\n  31: 18281.66,\n  32: 17701.37,\n  33: 17117.69,\n  34: 16530.59,\n  35: 15940.06,\n  36: 15346.07,\n  37: 14748.61,\n  38: 14147.65,\n  39: 13543.18,\n  40: 12935.17,\n  41: 12323.61,\n  42: 11708.47,\n  43: 11089.73,\n  44: 10467.37,\n  45: 9841.37,\n  46: 9211.71,\n  47: 8578.36,\n  48: 7941.31,\n  49: 7300.53,\n  50: 6656.0,\n  51: 6007.7,\n  52: 5355.61,\n  53: 4699.71,\n  54: 4039.97,\n  55: 3376.37,\n  56: 2708.89,\n  57: 2037.5,\n  58: 1362.18,\n  59: 682.91,\n  60: 34689.96,\n  61: 34161.27,\n  62: 33630.99,\n  63: 33099.13,\n  64: 32565.68,\n  65: 32030.63,\n  66: 31493.98,\n  67: 30955.72,\n  68: 30415.85,\n  69: 29874.37,\n  70: 29331.27,\n  71: 28786.54,\n  72: 28240.18,\n  73: 27692.19,\n  74: 27142.56,\n  75: 26591.29,\n  76: 26038.37,\n  77: 25483.79,\n  78: 24927.55,\n  79: 24369.65,\n  80: 23810.08,\n  81: 23248.84,\n  82: 22685.92,\n  83: 22121.31,\n  84: 21555.01,\n  85: 20987.02,\n  86: 20417.33,\n  87: 19845.94,\n  88: 19272.84,\n  89: 18698.02,\n  90: 18121.48,\n  91: 17543.22,\n  92: 16963.23,\n  93: 16381.5,\n  94: 15798.03,\n  95: 15212.82,\n  96: 14625.86,\n  97: 14037.14,\n  98: 13446.66,\n  99: 12854.41,\n  100: 12260.39,\n  101: 11664.59,\n  102: 11067.01,\n  103: 10467.64,\n  104: 9866.48,\n  105: 9263.52,\n  106: 8658.76,\n  107: 8052.19,\n  108: 7443.8,\n  109: 6833.59,\n  110: 6221.56,\n  111: 5607.7,\n  112: 4992.0,\n  113: 4374.46,\n  114: 3755.07,\n  115: 3133.83,\n  116: 2510.73,\n  117: 1885.77,\n  118: 1258.94,\n  119: 630.23},\n 'interest_paid': {0: 202.93,\n  1: 200.1,\n  2: 197.25,\n  3: 194.38,\n  4: 191.5,\n  5: 188.6,\n  6: 185.68,\n  7: 182.75,\n  8: 179.8,\n  9: 176.83,\n  10: 173.84,\n  11: 170.84,\n  12: 167.82,\n  13: 164.78,\n  14: 161.72,\n  15: 158.65,\n  16: 155.56,\n  17: 152.45,\n  18: 149.32,\n  19: 146.17,\n  20: 143.01,\n  21: 139.82,\n  22: 136.62,\n  23: 133.4,\n  24: 130.16,\n  25: 126.9,\n  26: 123.62,\n  27: 120.33,\n  28: 117.01,\n  29: 113.67,\n  30: 110.32,\n  31: 106.94,\n  32: 103.55,\n  33: 100.13,\n  34: 96.7,\n  35: 93.24,\n  36: 89.77,\n  37: 86.27,\n  38: 82.76,\n  39: 79.22,\n  40: 75.67,\n  41: 72.09,\n  42: 68.49,\n  43: 64.87,\n  44: 61.23,\n  45: 57.57,\n  46: 53.88,\n  47: 50.18,\n  48: 46.45,\n  49: 42.7,\n  50: 38.93,\n  51: 35.14,\n  52: 31.33,\n  53: 27.49,\n  54: 23.63,\n  55: 19.75,\n  56: 15.84,\n  57: 11.91,\n  58: 7.96,\n  59: 3.99,\n  60: 103.78,\n  61: 102.19,\n  62: 100.61,\n  63: 99.02,\n  64: 97.42,\n  65: 95.82,\n  66: 94.21,\n  67: 92.6,\n  68: 90.99,\n  69: 89.37,\n  70: 87.74,\n  71: 86.11,\n  72: 84.48,\n  73: 82.84,\n  74: 81.2,\n  75: 79.55,\n  76: 77.89,\n  77: 76.23,\n  78: 74.57,\n  79: 72.9,\n  80: 71.23,\n  81: 69.55,\n  82: 67.86,\n  83: 66.17,\n  84: 64.48,\n  85: 62.78,\n  86: 61.08,\n  87: 59.37,\n  88: 57.65,\n  89: 55.93,\n  90: 54.21,\n  91: 52.48,\n  92: 50.74,\n  93: 49.0,\n  94: 47.26,\n  95: 45.51,\n  96: 43.75,\n  97: 41.99,\n  98: 40.22,\n  99: 38.45,\n  100: 36.67,\n  101: 34.89,\n  102: 33.1,\n  103: 31.31,\n  104: 29.51,\n  105: 27.71,\n  106: 25.9,\n  107: 24.08,\n  108: 22.26,\n  109: 20.44,\n  110: 18.61,\n  111: 16.77,\n  112: 14.93,\n  113: 13.08,\n  114: 11.23,\n  115: 9.37,\n  116: 7.51,\n  117: 5.64,\n  118: 3.76,\n  119: 1.88},\n 'principal_paid': {0: 484.3,\n  1: 487.13,\n  2: 489.98,\n  3: 492.85,\n  4: 495.73,\n  5: 498.63,\n  6: 501.55,\n  7: 504.48,\n  8: 507.43,\n  9: 510.4,\n  10: 513.39,\n  11: 516.39,\n  12: 519.41,\n  13: 522.45,\n  14: 525.51,\n  15: 528.58,\n  16: 531.67,\n  17: 534.78,\n  18: 537.91,\n  19: 541.06,\n  20: 544.22,\n  21: 547.41,\n  22: 550.61,\n  23: 553.83,\n  24: 557.07,\n  25: 560.33,\n  26: 563.61,\n  27: 566.9,\n  28: 570.22,\n  29: 573.56,\n  30: 576.91,\n  31: 580.29,\n  32: 583.68,\n  33: 587.1,\n  34: 590.53,\n  35: 593.99,\n  36: 597.46,\n  37: 600.96,\n  38: 604.47,\n  39: 608.01,\n  40: 611.56,\n  41: 615.14,\n  42: 618.74,\n  43: 622.36,\n  44: 626.0,\n  45: 629.66,\n  46: 633.35,\n  47: 637.05,\n  48: 640.78,\n  49: 644.53,\n  50: 648.3,\n  51: 652.09,\n  52: 655.9,\n  53: 659.74,\n  54: 663.6,\n  55: 667.48,\n  56: 671.39,\n  57: 675.32,\n  58: 679.27,\n  59: 683.24,\n  60: 528.69,\n  61: 530.28,\n  62: 531.86,\n  63: 533.45,\n  64: 535.05,\n  65: 536.65,\n  66: 538.26,\n  67: 539.87,\n  68: 541.48,\n  69: 543.1,\n  70: 544.73,\n  71: 546.36,\n  72: 547.99,\n  73: 549.63,\n  74: 551.27,\n  75: 552.92,\n  76: 554.58,\n  77: 556.24,\n  78: 557.9,\n  79: 559.57,\n  80: 561.24,\n  81: 562.92,\n  82: 564.61,\n  83: 566.3,\n  84: 567.99,\n  85: 569.69,\n  86: 571.39,\n  87: 573.1,\n  88: 574.82,\n  89: 576.54,\n  90: 578.26,\n  91: 579.99,\n  92: 581.73,\n  93: 583.47,\n  94: 585.21,\n  95: 586.96,\n  96: 588.72,\n  97: 590.48,\n  98: 592.25,\n  99: 594.02,\n  100: 595.8,\n  101: 597.58,\n  102: 599.37,\n  103: 601.16,\n  104: 602.96,\n  105: 604.76,\n  106: 606.57,\n  107: 608.39,\n  108: 610.21,\n  109: 612.03,\n  110: 613.86,\n  111: 615.7,\n  112: 617.54,\n  113: 619.39,\n  114: 621.24,\n  115: 623.1,\n  116: 624.96,\n  117: 626.83,\n  118: 628.71,\n  119: 630.59},\n 'new_balance': {0: 34205.66,\n  1: 33718.53,\n  2: 33228.55,\n  3: 32735.7,\n  4: 32239.97,\n  5: 31741.34,\n  6: 31239.79,\n  7: 30735.31,\n  8: 30227.88,\n  9: 29717.48,\n  10: 29204.09,\n  11: 28687.7,\n  12: 28168.29,\n  13: 27645.84,\n  14: 27120.33,\n  15: 26591.75,\n  16: 26060.08,\n  17: 25525.3,\n  18: 24987.39,\n  19: 24446.33,\n  20: 23902.11,\n  21: 23354.7,\n  22: 22804.09,\n  23: 22250.26,\n  24: 21693.19,\n  25: 21132.86,\n  26: 20569.25,\n  27: 20002.35,\n  28: 19432.13,\n  29: 18858.57,\n  30: 18281.66,\n  31: 17701.37,\n  32: 17117.69,\n  33: 16530.59,\n  34: 15940.06,\n  35: 15346.07,\n  36: 14748.61,\n  37: 14147.65,\n  38: 13543.18,\n  39: 12935.17,\n  40: 12323.61,\n  41: 11708.47,\n  42: 11089.73,\n  43: 10467.37,\n  44: 9841.37,\n  45: 9211.71,\n  46: 8578.36,\n  47: 7941.31,\n  48: 7300.53,\n  49: 6656.0,\n  50: 6007.7,\n  51: 5355.61,\n  52: 4699.71,\n  53: 4039.97,\n  54: 3376.37,\n  55: 2708.89,\n  56: 2037.5,\n  57: 1362.18,\n  58: 682.91,\n  59: -0.33,\n  60: 34161.27,\n  61: 33630.99,\n  62: 33099.13,\n  63: 32565.68,\n  64: 32030.63,\n  65: 31493.98,\n  66: 30955.72,\n  67: 30415.85,\n  68: 29874.37,\n  69: 29331.27,\n  70: 28786.54,\n  71: 28240.18,\n  72: 27692.19,\n  73: 27142.56,\n  74: 26591.29,\n  75: 26038.37,\n  76: 25483.79,\n  77: 24927.55,\n  78: 24369.65,\n  79: 23810.08,\n  80: 23248.84,\n  81: 22685.92,\n  82: 22121.31,\n  83: 21555.01,\n  84: 20987.02,\n  85: 20417.33,\n  86: 19845.94,\n  87: 19272.84,\n  88: 18698.02,\n  89: 18121.48,\n  90: 17543.22,\n  91: 16963.23,\n  92: 16381.5,\n  93: 15798.03,\n  94: 15212.82,\n  95: 14625.86,\n  96: 14037.14,\n  97: 13446.66,\n  98: 12854.41,\n  99: 12260.39,\n  100: 11664.59,\n  101: 11067.01,\n  102: 10467.64,\n  103: 9866.48,\n  104: 9263.52,\n  105: 8658.76,\n  106: 8052.19,\n  107: 7443.8,\n  108: 6833.59,\n  109: 6221.56,\n  110: 5607.7,\n  111: 4992.0,\n  112: 4374.46,\n  113: 3755.07,\n  114: 3133.83,\n  115: 2510.73,\n  116: 1885.77,\n  117: 1258.94,\n  118: 630.23,\n  119: -0.36},\n 'interest_rate': {0: 0.0702,\n  1: 0.0702,\n  2: 0.0702,\n  3: 0.0702,\n  4: 0.0702,\n  5: 0.0702,\n  6: 0.0702,\n  7: 0.0702,\n  8: 0.0702,\n  9: 0.0702,\n  10: 0.0702,\n  11: 0.0702,\n  12: 0.0702,\n  13: 0.0702,\n  14: 0.0702,\n  15: 0.0702,\n  16: 0.0702,\n  17: 0.0702,\n  18: 0.0702,\n  19: 0.0702,\n  20: 0.0702,\n  21: 0.0702,\n  22: 0.0702,\n  23: 0.0702,\n  24: 0.0702,\n  25: 0.0702,\n  26: 0.0702,\n  27: 0.0702,\n  28: 0.0702,\n  29: 0.0702,\n  30: 0.0702,\n  31: 0.0702,\n  32: 0.0702,\n  33: 0.0702,\n  34: 0.0702,\n  35: 0.0702,\n  36: 0.0702,\n  37: 0.0702,\n  38: 0.0702,\n  39: 0.0702,\n  40: 0.0702,\n  41: 0.0702,\n  42: 0.0702,\n  43: 0.0702,\n  44: 0.0702,\n  45: 0.0702,\n  46: 0.0702,\n  47: 0.0702,\n  48: 0.0702,\n  49: 0.0702,\n  50: 0.0702,\n  51: 0.0702,\n  52: 0.0702,\n  53: 0.0702,\n  54: 0.0702,\n  55: 0.0702,\n  56: 0.0702,\n  57: 0.0702,\n  58: 0.0702,\n  59: 0.0702,\n  60: 0.0359,\n  61: 0.0359,\n  62: 0.0359,\n  63: 0.0359,\n  64: 0.0359,\n  65: 0.0359,\n  66: 0.0359,\n  67: 0.0359,\n  68: 0.0359,\n  69: 0.0359,\n  70: 0.0359,\n  71: 0.0359,\n  72: 0.0359,\n  73: 0.0359,\n  74: 0.0359,\n  75: 0.0359,\n  76: 0.0359,\n  77: 0.0359,\n  78: 0.0359,\n  79: 0.0359,\n  80: 0.0359,\n  81: 0.0359,\n  82: 0.0359,\n  83: 0.0359,\n  84: 0.0359,\n  85: 0.0359,\n  86: 0.0359,\n  87: 0.0359,\n  88: 0.0359,\n  89: 0.0359,\n  90: 0.0359,\n  91: 0.0359,\n  92: 0.0359,\n  93: 0.0359,\n  94: 0.0359,\n  95: 0.0359,\n  96: 0.0359,\n  97: 0.0359,\n  98: 0.0359,\n  99: 0.0359,\n  100: 0.0359,\n  101: 0.0359,\n  102: 0.0359,\n  103: 0.0359,\n  104: 0.0359,\n  105: 0.0359,\n  106: 0.0359,\n  107: 0.0359,\n  108: 0.0359,\n  109: 0.0359,\n  110: 0.0359,\n  111: 0.0359,\n  112: 0.0359,\n  113: 0.0359,\n  114: 0.0359,\n  115: 0.0359,\n  116: 0.0359,\n  117: 0.0359,\n  118: 0.0359,\n  119: 0.0359},\n 'car_type': {0: 'Toyota Sienna',\n  1: 'Toyota Sienna',\n  2: 'Toyota Sienna',\n  3: 'Toyota Sienna',\n  4: 'Toyota Sienna',\n  5: 'Toyota Sienna',\n  6: 'Toyota Sienna',\n  7: 'Toyota Sienna',\n  8: 'Toyota Sienna',\n  9: 'Toyota Sienna',\n  10: 'Toyota Sienna',\n  11: 'Toyota Sienna',\n  12: 'Toyota Sienna',\n  13: 'Toyota Sienna',\n  14: 'Toyota Sienna',\n  15: 'Toyota Sienna',\n  16: 'Toyota Sienna',\n  17: 'Toyota Sienna',\n  18: 'Toyota Sienna',\n  19: 'Toyota Sienna',\n  20: 'Toyota Sienna',\n  21: 'Toyota Sienna',\n  22: 'Toyota Sienna',\n  23: 'Toyota Sienna',\n  24: 'Toyota Sienna',\n  25: 'Toyota Sienna',\n  26: 'Toyota Sienna',\n  27: 'Toyota Sienna',\n  28: 'Toyota Sienna',\n  29: 'Toyota Sienna',\n  30: 'Toyota Sienna',\n  31: 'Toyota Sienna',\n  32: 'Toyota Sienna',\n  33: 'Toyota Sienna',\n  34: 'Toyota Sienna',\n  35: 'Toyota Sienna',\n  36: 'Toyota Sienna',\n  37: 'Toyota Sienna',\n  38: 'Toyota Sienna',\n  39: 'Toyota Sienna',\n  40: 'Toyota Sienna',\n  41: 'Toyota Sienna',\n  42: 'Toyota Sienna',\n  43: 'Toyota Sienna',\n  44: 'Toyota Sienna',\n  45: 'Toyota Sienna',\n  46: 'Toyota Sienna',\n  47: 'Toyota Sienna',\n  48: 'Toyota Sienna',\n  49: 'Toyota Sienna',\n  50: 'Toyota Sienna',\n  51: 'Toyota Sienna',\n  52: 'Toyota Sienna',\n  53: 'Toyota Sienna',\n  54: 'Toyota Sienna',\n  55: 'Toyota Sienna',\n  56: 'Toyota Sienna',\n  57: 'Toyota Sienna',\n  58: 'Toyota Sienna',\n  59: 'Toyota Sienna',\n  60: 'Toyota Sienna',\n  61: 'Toyota Sienna',\n  62: 'Toyota Sienna',\n  63: 'Toyota Sienna',\n  64: 'Toyota Sienna',\n  65: 'Toyota Sienna',\n  66: 'Toyota Sienna',\n  67: 'Toyota Sienna',\n  68: 'Toyota Sienna',\n  69: 'Toyota Sienna',\n  70: 'Toyota Sienna',\n  71: 'Toyota Sienna',\n  72: 'Toyota Sienna',\n  73: 'Toyota Sienna',\n  74: 'Toyota Sienna',\n  75: 'Toyota Sienna',\n  76: 'Toyota Sienna',\n  77: 'Toyota Sienna',\n  78: 'Toyota Sienna',\n  79: 'Toyota Sienna',\n  80: 'Toyota Sienna',\n  81: 'Toyota Sienna',\n  82: 'Toyota Sienna',\n  83: 'Toyota Sienna',\n  84: 'Toyota Sienna',\n  85: 'Toyota Sienna',\n  86: 'Toyota Sienna',\n  87: 'Toyota Sienna',\n  88: 'Toyota Sienna',\n  89: 'Toyota Sienna',\n  90: 'Toyota Sienna',\n  91: 'Toyota Sienna',\n  92: 'Toyota Sienna',\n  93: 'Toyota Sienna',\n  94: 'Toyota Sienna',\n  95: 'Toyota Sienna',\n  96: 'Toyota Sienna',\n  97: 'Toyota Sienna',\n  98: 'Toyota Sienna',\n  99: 'Toyota Sienna',\n  100: 'Toyota Sienna',\n  101: 'Toyota Sienna',\n  102: 'Toyota Sienna',\n  103: 'Toyota Sienna',\n  104: 'Toyota Sienna',\n  105: 'Toyota Sienna',\n  106: 'Toyota Sienna',\n  107: 'Toyota Sienna',\n  108: 'Toyota Sienna',\n  109: 'Toyota Sienna',\n  110: 'Toyota Sienna',\n  111: 'Toyota Sienna',\n  112: 'Toyota Sienna',\n  113: 'Toyota Sienna',\n  114: 'Toyota Sienna',\n  115: 'Toyota Sienna',\n  116: 'Toyota Sienna',\n  117: 'Toyota Sienna',\n  118: 'Toyota Sienna',\n  119: 'Toyota Sienna'}}"
     },
     "execution_count": 81,
     "metadata": {},
     "output_type": "execute_result"
    }
   ],
   "source": [
    "df.to_dict()"
   ],
   "metadata": {
    "collapsed": false,
    "pycharm": {
     "name": "#%%\n"
    }
   }
  },
  {
   "cell_type": "markdown",
   "source": [
    "## **Export pandas DataFrames to CSV and Excel files**"
   ],
   "metadata": {
    "collapsed": false
   }
  },
  {
   "cell_type": "code",
   "execution_count": 82,
   "outputs": [],
   "source": [
    "# Export DataFrame to csv File\n",
    "df.to_csv(path_or_buf='data/table.csv',\n",
    "          index_label=False)"
   ],
   "metadata": {
    "collapsed": false,
    "pycharm": {
     "name": "#%%\n"
    }
   }
  },
  {
   "cell_type": "code",
   "execution_count": 83,
   "outputs": [],
   "source": [
    "# Export DataFrame to excel File\n",
    "df.to_excel(excel_writer='data/table.xlsx',\n",
    "            index=False)"
   ],
   "metadata": {
    "collapsed": false,
    "pycharm": {
     "name": "#%%\n"
    }
   }
  }
 ],
 "metadata": {
  "kernelspec": {
   "display_name": "Python 3",
   "language": "python",
   "name": "python3"
  },
  "language_info": {
   "codemirror_mode": {
    "name": "ipython",
    "version": 2
   },
   "file_extension": ".py",
   "mimetype": "text/x-python",
   "name": "python",
   "nbconvert_exporter": "python",
   "pygments_lexer": "ipython2",
   "version": "2.7.6"
  }
 },
 "nbformat": 4,
 "nbformat_minor": 0
}